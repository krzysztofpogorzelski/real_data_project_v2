{
 "cells": [
  {
   "cell_type": "markdown",
   "id": "2ef5d76e",
   "metadata": {},
   "source": [
    "# import"
   ]
  },
  {
   "cell_type": "code",
   "execution_count": 1822,
   "id": "4f16feb1",
   "metadata": {},
   "outputs": [],
   "source": [
    "import pandas as pd"
   ]
  },
  {
   "cell_type": "markdown",
   "id": "57e16be8",
   "metadata": {},
   "source": [
    "### read and see"
   ]
  },
  {
   "cell_type": "code",
   "execution_count": 1823,
   "id": "6bea8c36",
   "metadata": {},
   "outputs": [],
   "source": [
    "df= pd.read_csv(r\"D:\\python\\PROJECT_1\\DATA_PV\\pv_csv.csv\")\n",
    "#df"
   ]
  },
  {
   "cell_type": "markdown",
   "id": "5129a579",
   "metadata": {},
   "source": [
    "### check columns names"
   ]
  },
  {
   "cell_type": "code",
   "execution_count": 1824,
   "id": "cb345cc9",
   "metadata": {},
   "outputs": [
    {
     "data": {
      "text/plain": [
       "Index(['Unnamed: 0', '`', 'dws', 'miesiąc podpisania umowy', 'nazwisko',\n",
       "       'imię', 'adres', 'mail', 'moc', 'kwota brutto', 'umowa podpis.',\n",
       "       'zaliczka 1 wpł.', 'towar zam.', 'towar u klienta', 'zaliczka 2 wpł.',\n",
       "       'montaż', 'fakturowanie', 'FAKTURA końcowa', 'kasa rozliczona',\n",
       "       'faktura poczta czy mail', 'Mój Prąd 3.0', 'dokumentacja do PGE',\n",
       "       'dokumentacja powykonawcza', 'Schemat', 'telefon', 'Unnamed: 25',\n",
       "       'Unnamed: 26', 'Unnamed: 27'],\n",
       "      dtype='object')"
      ]
     },
     "execution_count": 1824,
     "metadata": {},
     "output_type": "execute_result"
    }
   ],
   "source": [
    "df.columns"
   ]
  },
  {
   "cell_type": "markdown",
   "id": "1a1dc240",
   "metadata": {},
   "source": [
    "### check numer of NaN in columns"
   ]
  },
  {
   "cell_type": "code",
   "execution_count": 1825,
   "id": "422103d3",
   "metadata": {},
   "outputs": [
    {
     "data": {
      "text/plain": [
       "Unnamed: 0                     2\n",
       "`                             60\n",
       "dws                          305\n",
       "miesiąc podpisania umowy      62\n",
       "nazwisko                      59\n",
       "imię                          67\n",
       "adres                         59\n",
       "mail                         394\n",
       "moc                           60\n",
       "kwota brutto                  59\n",
       "umowa podpis.                524\n",
       "zaliczka 1 wpł.              286\n",
       "towar zam.                   417\n",
       "towar u klienta              448\n",
       "zaliczka 2 wpł.              350\n",
       "montaż                       526\n",
       "fakturowanie                 569\n",
       "FAKTURA końcowa              484\n",
       "kasa rozliczona              556\n",
       "faktura poczta czy mail      563\n",
       "Mój Prąd 3.0                 518\n",
       "dokumentacja do PGE          176\n",
       "dokumentacja powykonawcza    415\n",
       "Schemat                      310\n",
       "telefon                       63\n",
       "Unnamed: 25                   65\n",
       "Unnamed: 26                  451\n",
       "Unnamed: 27                  563\n",
       "dtype: int64"
      ]
     },
     "execution_count": 1825,
     "metadata": {},
     "output_type": "execute_result"
    }
   ],
   "source": [
    "df.isna().sum()"
   ]
  },
  {
   "cell_type": "markdown",
   "id": "5027f959",
   "metadata": {},
   "source": [
    "### read csv file with some columns"
   ]
  },
  {
   "cell_type": "code",
   "execution_count": 1826,
   "id": "0191d0d2",
   "metadata": {},
   "outputs": [],
   "source": [
    "df = pd.read_csv(r\"D:\\python\\PROJECT_1\\DATA_PV\\pv_csv.csv\", usecols=['miesiąc podpisania umowy', 'nazwisko',\n",
    "       'imię', 'adres', 'mail', 'moc', 'kwota brutto', 'telefon'])\n",
    "#df"
   ]
  },
  {
   "cell_type": "markdown",
   "id": "55577523",
   "metadata": {},
   "source": [
    "### delete rows with NaN in every column"
   ]
  },
  {
   "cell_type": "code",
   "execution_count": 1827,
   "id": "5c864e5f",
   "metadata": {},
   "outputs": [],
   "source": [
    "df.dropna(axis=0, how=\"all\", inplace=True )"
   ]
  },
  {
   "cell_type": "markdown",
   "id": "cd45f365",
   "metadata": {},
   "source": [
    "### replace \"-\" and \" \"(space) to nothing \"\" in telefon column"
   ]
  },
  {
   "cell_type": "code",
   "execution_count": 1828,
   "id": "2e064d37",
   "metadata": {},
   "outputs": [],
   "source": [
    "df.telefon.replace('-','', regex= True, inplace=True)\n",
    "df.telefon.replace(' ','', regex= True, inplace=True)"
   ]
  },
  {
   "cell_type": "markdown",
   "id": "1a4e32bc",
   "metadata": {},
   "source": [
    "### set new columns names"
   ]
  },
  {
   "cell_type": "code",
   "execution_count": 1829,
   "id": "c7d9b35f",
   "metadata": {},
   "outputs": [],
   "source": [
    "columns= ['miesiac_podp_umowy', 'nazwisko',\n",
    "       'imie', 'adres', 'mail', 'moc', 'kwota_brutto', 'telefon']\n",
    "df.columns=columns\n",
    "#df"
   ]
  },
  {
   "cell_type": "markdown",
   "id": "4d396fd3",
   "metadata": {},
   "source": [
    "### check numer of NaN in columns"
   ]
  },
  {
   "cell_type": "code",
   "execution_count": 1830,
   "id": "e49a8720",
   "metadata": {},
   "outputs": [
    {
     "data": {
      "text/plain": [
       "miesiac_podp_umowy      3\n",
       "nazwisko                0\n",
       "imie                    8\n",
       "adres                   0\n",
       "mail                  335\n",
       "moc                     1\n",
       "kwota_brutto            0\n",
       "telefon                 4\n",
       "dtype: int64"
      ]
     },
     "execution_count": 1830,
     "metadata": {},
     "output_type": "execute_result"
    }
   ],
   "source": [
    "df.isna().sum()"
   ]
  },
  {
   "cell_type": "code",
   "execution_count": 1831,
   "id": "f050a6d7",
   "metadata": {},
   "outputs": [],
   "source": [
    "#df"
   ]
  },
  {
   "cell_type": "markdown",
   "id": "0a753f92",
   "metadata": {},
   "source": [
    "### fill NaN cells with some values"
   ]
  },
  {
   "cell_type": "code",
   "execution_count": 1832,
   "id": "6e9aa8dc",
   "metadata": {},
   "outputs": [],
   "source": [
    "df.miesiac_podp_umowy.fillna(\"\", inplace=True)\n",
    "df.imie.fillna(\"\", inplace=True)\n",
    "df.mail.fillna(\"brak\", inplace=True)\n",
    "df.moc.fillna(\"0\", inplace=True)\n",
    "df.telefon.fillna(\"0\", inplace=True)"
   ]
  },
  {
   "cell_type": "markdown",
   "id": "6e3ad5aa",
   "metadata": {},
   "source": [
    "### new column order, set new column rok_podp_umowy with values"
   ]
  },
  {
   "cell_type": "code",
   "execution_count": 1833,
   "id": "9d5db783",
   "metadata": {},
   "outputs": [],
   "source": [
    "df=df[['nazwisko', 'imie','adres','moc','kwota_brutto','mail','telefon','miesiac_podp_umowy']]\n",
    "df['rok_podp_umowy']=0"
   ]
  },
  {
   "cell_type": "code",
   "execution_count": 1834,
   "id": "5a1f19c0",
   "metadata": {},
   "outputs": [
    {
     "name": "stderr",
     "output_type": "stream",
     "text": [
      "C:\\Users\\biuro\\AppData\\Local\\Temp/ipykernel_7036/2557599883.py:1: SettingWithCopyWarning: \n",
      "A value is trying to be set on a copy of a slice from a DataFrame\n",
      "\n",
      "See the caveats in the documentation: https://pandas.pydata.org/pandas-docs/stable/user_guide/indexing.html#returning-a-view-versus-a-copy\n",
      "  df.rok_podp_umowy[0:250]= 2020\n",
      "C:\\Users\\biuro\\AppData\\Local\\Temp/ipykernel_7036/2557599883.py:2: SettingWithCopyWarning: \n",
      "A value is trying to be set on a copy of a slice from a DataFrame\n",
      "\n",
      "See the caveats in the documentation: https://pandas.pydata.org/pandas-docs/stable/user_guide/indexing.html#returning-a-view-versus-a-copy\n",
      "  df.rok_podp_umowy[250:497]= 2021\n",
      "C:\\Users\\biuro\\AppData\\Local\\Temp/ipykernel_7036/2557599883.py:3: SettingWithCopyWarning: \n",
      "A value is trying to be set on a copy of a slice from a DataFrame\n",
      "\n",
      "See the caveats in the documentation: https://pandas.pydata.org/pandas-docs/stable/user_guide/indexing.html#returning-a-view-versus-a-copy\n",
      "  df.rok_podp_umowy[497:]= 2022\n"
     ]
    }
   ],
   "source": [
    "df.rok_podp_umowy[0:250]= 2020\n",
    "df.rok_podp_umowy[250:497]= 2021\n",
    "df.rok_podp_umowy[497:]= 2022\n",
    "#df"
   ]
  },
  {
   "cell_type": "markdown",
   "id": "13e630ee",
   "metadata": {},
   "source": [
    "### reset index after delete some NaN rows before"
   ]
  },
  {
   "cell_type": "code",
   "execution_count": 1835,
   "id": "e23f25a5",
   "metadata": {},
   "outputs": [],
   "source": [
    "df.reset_index(drop=True, inplace=True)"
   ]
  },
  {
   "cell_type": "markdown",
   "id": "fb4851be",
   "metadata": {},
   "source": [
    "### check manually rows, change some values in telefon, mail and kwota_brutto columns"
   ]
  },
  {
   "cell_type": "code",
   "execution_count": 1836,
   "id": "0b3efe44",
   "metadata": {
    "scrolled": false
   },
   "outputs": [],
   "source": [
    "#df[:50]"
   ]
  },
  {
   "cell_type": "code",
   "execution_count": 1837,
   "id": "5dcbb8d1",
   "metadata": {},
   "outputs": [],
   "source": [
    "#df[51:100]"
   ]
  },
  {
   "cell_type": "code",
   "execution_count": 1838,
   "id": "f57fdac0",
   "metadata": {},
   "outputs": [
    {
     "name": "stderr",
     "output_type": "stream",
     "text": [
      "C:\\Users\\biuro\\AppData\\Local\\Temp/ipykernel_7036/4071928392.py:1: SettingWithCopyWarning: \n",
      "A value is trying to be set on a copy of a slice from a DataFrame\n",
      "\n",
      "See the caveats in the documentation: https://pandas.pydata.org/pandas-docs/stable/user_guide/indexing.html#returning-a-view-versus-a-copy\n",
      "  df.telefon[54]='506554947'\n"
     ]
    }
   ],
   "source": [
    "df.telefon[54]='506554947'"
   ]
  },
  {
   "cell_type": "code",
   "execution_count": 1839,
   "id": "d5012fee",
   "metadata": {},
   "outputs": [],
   "source": [
    "#df[101:150]"
   ]
  },
  {
   "cell_type": "code",
   "execution_count": 1840,
   "id": "cbc7f0d6",
   "metadata": {},
   "outputs": [
    {
     "name": "stderr",
     "output_type": "stream",
     "text": [
      "C:\\Users\\biuro\\AppData\\Local\\Temp/ipykernel_7036/191441822.py:1: SettingWithCopyWarning: \n",
      "A value is trying to be set on a copy of a slice from a DataFrame\n",
      "\n",
      "See the caveats in the documentation: https://pandas.pydata.org/pandas-docs/stable/user_guide/indexing.html#returning-a-view-versus-a-copy\n",
      "  df.telefon[101]='518156237'\n"
     ]
    }
   ],
   "source": [
    "df.telefon[101]='518156237'"
   ]
  },
  {
   "cell_type": "code",
   "execution_count": 1841,
   "id": "165d0f5b",
   "metadata": {},
   "outputs": [
    {
     "name": "stderr",
     "output_type": "stream",
     "text": [
      "C:\\Users\\biuro\\AppData\\Local\\Temp/ipykernel_7036/270355326.py:1: SettingWithCopyWarning: \n",
      "A value is trying to be set on a copy of a slice from a DataFrame\n",
      "\n",
      "See the caveats in the documentation: https://pandas.pydata.org/pandas-docs/stable/user_guide/indexing.html#returning-a-view-versus-a-copy\n",
      "  df.telefon[105]='607814652'\n"
     ]
    }
   ],
   "source": [
    "df.telefon[105]='607814652'"
   ]
  },
  {
   "cell_type": "code",
   "execution_count": 1842,
   "id": "15b7397a",
   "metadata": {},
   "outputs": [
    {
     "name": "stderr",
     "output_type": "stream",
     "text": [
      "C:\\Users\\biuro\\AppData\\Local\\Temp/ipykernel_7036/2637115722.py:1: SettingWithCopyWarning: \n",
      "A value is trying to be set on a copy of a slice from a DataFrame\n",
      "\n",
      "See the caveats in the documentation: https://pandas.pydata.org/pandas-docs/stable/user_guide/indexing.html#returning-a-view-versus-a-copy\n",
      "  df.telefon[108]='696022177'\n"
     ]
    }
   ],
   "source": [
    "df.telefon[108]='696022177'"
   ]
  },
  {
   "cell_type": "code",
   "execution_count": 1843,
   "id": "b773244e",
   "metadata": {},
   "outputs": [
    {
     "name": "stderr",
     "output_type": "stream",
     "text": [
      "C:\\Users\\biuro\\AppData\\Local\\Temp/ipykernel_7036/1242328676.py:1: SettingWithCopyWarning: \n",
      "A value is trying to be set on a copy of a slice from a DataFrame\n",
      "\n",
      "See the caveats in the documentation: https://pandas.pydata.org/pandas-docs/stable/user_guide/indexing.html#returning-a-view-versus-a-copy\n",
      "  df.telefon[117]='785796247'\n"
     ]
    }
   ],
   "source": [
    "df.telefon[117]='785796247'"
   ]
  },
  {
   "cell_type": "code",
   "execution_count": 1844,
   "id": "8a2f665d",
   "metadata": {},
   "outputs": [
    {
     "name": "stderr",
     "output_type": "stream",
     "text": [
      "C:\\Users\\biuro\\AppData\\Local\\Temp/ipykernel_7036/459007993.py:1: SettingWithCopyWarning: \n",
      "A value is trying to be set on a copy of a slice from a DataFrame\n",
      "\n",
      "See the caveats in the documentation: https://pandas.pydata.org/pandas-docs/stable/user_guide/indexing.html#returning-a-view-versus-a-copy\n",
      "  df.telefon[119]='660707432'\n"
     ]
    }
   ],
   "source": [
    "df.telefon[119]='660707432'"
   ]
  },
  {
   "cell_type": "code",
   "execution_count": 1845,
   "id": "83d23887",
   "metadata": {},
   "outputs": [
    {
     "name": "stderr",
     "output_type": "stream",
     "text": [
      "C:\\Users\\biuro\\AppData\\Local\\Temp/ipykernel_7036/2317580053.py:1: SettingWithCopyWarning: \n",
      "A value is trying to be set on a copy of a slice from a DataFrame\n",
      "\n",
      "See the caveats in the documentation: https://pandas.pydata.org/pandas-docs/stable/user_guide/indexing.html#returning-a-view-versus-a-copy\n",
      "  df.telefon[128]='509544002'\n"
     ]
    }
   ],
   "source": [
    "df.telefon[128]='509544002'"
   ]
  },
  {
   "cell_type": "code",
   "execution_count": 1846,
   "id": "c75040a4",
   "metadata": {},
   "outputs": [
    {
     "name": "stderr",
     "output_type": "stream",
     "text": [
      "C:\\Users\\biuro\\AppData\\Local\\Temp/ipykernel_7036/3862786064.py:1: SettingWithCopyWarning: \n",
      "A value is trying to be set on a copy of a slice from a DataFrame\n",
      "\n",
      "See the caveats in the documentation: https://pandas.pydata.org/pandas-docs/stable/user_guide/indexing.html#returning-a-view-versus-a-copy\n",
      "  df.telefon[142]='503121646'\n"
     ]
    }
   ],
   "source": [
    "df.telefon[142]='503121646'"
   ]
  },
  {
   "cell_type": "code",
   "execution_count": 1847,
   "id": "12df2078",
   "metadata": {},
   "outputs": [
    {
     "name": "stderr",
     "output_type": "stream",
     "text": [
      "C:\\Users\\biuro\\AppData\\Local\\Temp/ipykernel_7036/1935191677.py:1: SettingWithCopyWarning: \n",
      "A value is trying to be set on a copy of a slice from a DataFrame\n",
      "\n",
      "See the caveats in the documentation: https://pandas.pydata.org/pandas-docs/stable/user_guide/indexing.html#returning-a-view-versus-a-copy\n",
      "  df.mail[105]='brak'\n"
     ]
    }
   ],
   "source": [
    "df.mail[105]='brak'"
   ]
  },
  {
   "cell_type": "code",
   "execution_count": 1848,
   "id": "4ba73a87",
   "metadata": {},
   "outputs": [],
   "source": [
    "#df[101:150]"
   ]
  },
  {
   "cell_type": "code",
   "execution_count": 1849,
   "id": "cf590a29",
   "metadata": {},
   "outputs": [],
   "source": [
    "#df[151:200]"
   ]
  },
  {
   "cell_type": "code",
   "execution_count": 1850,
   "id": "d8b79e2f",
   "metadata": {},
   "outputs": [
    {
     "name": "stderr",
     "output_type": "stream",
     "text": [
      "C:\\Users\\biuro\\AppData\\Local\\Temp/ipykernel_7036/1238543986.py:1: SettingWithCopyWarning: \n",
      "A value is trying to be set on a copy of a slice from a DataFrame\n",
      "\n",
      "See the caveats in the documentation: https://pandas.pydata.org/pandas-docs/stable/user_guide/indexing.html#returning-a-view-versus-a-copy\n",
      "  df.telefon[151]='607372000'\n"
     ]
    }
   ],
   "source": [
    "df.telefon[151]='607372000'"
   ]
  },
  {
   "cell_type": "code",
   "execution_count": 1851,
   "id": "95a7d3d8",
   "metadata": {},
   "outputs": [
    {
     "name": "stderr",
     "output_type": "stream",
     "text": [
      "C:\\Users\\biuro\\AppData\\Local\\Temp/ipykernel_7036/301055227.py:1: SettingWithCopyWarning: \n",
      "A value is trying to be set on a copy of a slice from a DataFrame\n",
      "\n",
      "See the caveats in the documentation: https://pandas.pydata.org/pandas-docs/stable/user_guide/indexing.html#returning-a-view-versus-a-copy\n",
      "  df.telefon[153]='513848564'\n"
     ]
    }
   ],
   "source": [
    "df.telefon[153]='513848564'"
   ]
  },
  {
   "cell_type": "code",
   "execution_count": 1852,
   "id": "56e450fd",
   "metadata": {},
   "outputs": [
    {
     "name": "stderr",
     "output_type": "stream",
     "text": [
      "C:\\Users\\biuro\\AppData\\Local\\Temp/ipykernel_7036/2339270037.py:1: SettingWithCopyWarning: \n",
      "A value is trying to be set on a copy of a slice from a DataFrame\n",
      "\n",
      "See the caveats in the documentation: https://pandas.pydata.org/pandas-docs/stable/user_guide/indexing.html#returning-a-view-versus-a-copy\n",
      "  df.telefon[178]='506440806'\n"
     ]
    }
   ],
   "source": [
    "df.telefon[178]='506440806'"
   ]
  },
  {
   "cell_type": "code",
   "execution_count": 1853,
   "id": "a6baf5b2",
   "metadata": {},
   "outputs": [],
   "source": [
    "#df[201:250]"
   ]
  },
  {
   "cell_type": "code",
   "execution_count": 1854,
   "id": "828d5d22",
   "metadata": {},
   "outputs": [
    {
     "name": "stderr",
     "output_type": "stream",
     "text": [
      "C:\\Users\\biuro\\AppData\\Local\\Temp/ipykernel_7036/958324464.py:1: SettingWithCopyWarning: \n",
      "A value is trying to be set on a copy of a slice from a DataFrame\n",
      "\n",
      "See the caveats in the documentation: https://pandas.pydata.org/pandas-docs/stable/user_guide/indexing.html#returning-a-view-versus-a-copy\n",
      "  df.telefon[204]='607302332'\n"
     ]
    }
   ],
   "source": [
    "df.telefon[204]='607302332'"
   ]
  },
  {
   "cell_type": "code",
   "execution_count": 1855,
   "id": "10171cc2",
   "metadata": {},
   "outputs": [
    {
     "name": "stderr",
     "output_type": "stream",
     "text": [
      "C:\\Users\\biuro\\AppData\\Local\\Temp/ipykernel_7036/2970316175.py:1: SettingWithCopyWarning: \n",
      "A value is trying to be set on a copy of a slice from a DataFrame\n",
      "\n",
      "See the caveats in the documentation: https://pandas.pydata.org/pandas-docs/stable/user_guide/indexing.html#returning-a-view-versus-a-copy\n",
      "  df.telefon[224]='602736685'\n"
     ]
    }
   ],
   "source": [
    "df.telefon[224]='602736685'"
   ]
  },
  {
   "cell_type": "code",
   "execution_count": 1856,
   "id": "4738e0bc",
   "metadata": {},
   "outputs": [
    {
     "name": "stderr",
     "output_type": "stream",
     "text": [
      "C:\\Users\\biuro\\AppData\\Local\\Temp/ipykernel_7036/3125858976.py:1: SettingWithCopyWarning: \n",
      "A value is trying to be set on a copy of a slice from a DataFrame\n",
      "\n",
      "See the caveats in the documentation: https://pandas.pydata.org/pandas-docs/stable/user_guide/indexing.html#returning-a-view-versus-a-copy\n",
      "  df.telefon[239]='504189245'\n"
     ]
    }
   ],
   "source": [
    "df.telefon[239]='504189245'"
   ]
  },
  {
   "cell_type": "code",
   "execution_count": 1857,
   "id": "113a2872",
   "metadata": {},
   "outputs": [
    {
     "name": "stderr",
     "output_type": "stream",
     "text": [
      "C:\\Users\\biuro\\AppData\\Local\\Temp/ipykernel_7036/3360245142.py:1: SettingWithCopyWarning: \n",
      "A value is trying to be set on a copy of a slice from a DataFrame\n",
      "\n",
      "See the caveats in the documentation: https://pandas.pydata.org/pandas-docs/stable/user_guide/indexing.html#returning-a-view-versus-a-copy\n",
      "  df.telefon[246]='501367726'\n"
     ]
    }
   ],
   "source": [
    "df.telefon[246]='501367726'"
   ]
  },
  {
   "cell_type": "code",
   "execution_count": 1858,
   "id": "dbdae733",
   "metadata": {},
   "outputs": [
    {
     "name": "stderr",
     "output_type": "stream",
     "text": [
      "C:\\Users\\biuro\\AppData\\Local\\Temp/ipykernel_7036/3645774562.py:1: SettingWithCopyWarning: \n",
      "A value is trying to be set on a copy of a slice from a DataFrame\n",
      "\n",
      "See the caveats in the documentation: https://pandas.pydata.org/pandas-docs/stable/user_guide/indexing.html#returning-a-view-versus-a-copy\n",
      "  df.telefon[247]='509058444'\n"
     ]
    }
   ],
   "source": [
    "df.telefon[247]='509058444'"
   ]
  },
  {
   "cell_type": "code",
   "execution_count": 1859,
   "id": "ae8e2705",
   "metadata": {},
   "outputs": [
    {
     "name": "stderr",
     "output_type": "stream",
     "text": [
      "C:\\Users\\biuro\\AppData\\Local\\Temp/ipykernel_7036/588168850.py:1: SettingWithCopyWarning: \n",
      "A value is trying to be set on a copy of a slice from a DataFrame\n",
      "\n",
      "See the caveats in the documentation: https://pandas.pydata.org/pandas-docs/stable/user_guide/indexing.html#returning-a-view-versus-a-copy\n",
      "  df.telefon[248]='662218324'\n"
     ]
    }
   ],
   "source": [
    "df.telefon[248]='662218324'"
   ]
  },
  {
   "cell_type": "code",
   "execution_count": 1860,
   "id": "fecc5ea4",
   "metadata": {},
   "outputs": [
    {
     "name": "stderr",
     "output_type": "stream",
     "text": [
      "C:\\Users\\biuro\\AppData\\Local\\Temp/ipykernel_7036/3126403040.py:1: SettingWithCopyWarning: \n",
      "A value is trying to be set on a copy of a slice from a DataFrame\n",
      "\n",
      "See the caveats in the documentation: https://pandas.pydata.org/pandas-docs/stable/user_guide/indexing.html#returning-a-view-versus-a-copy\n",
      "  df.mail[248]='sylwester.gol@gmail.com'\n"
     ]
    }
   ],
   "source": [
    "df.mail[248]='sylwester.gol@gmail.com'"
   ]
  },
  {
   "cell_type": "code",
   "execution_count": 1861,
   "id": "eeac6e9b",
   "metadata": {},
   "outputs": [],
   "source": [
    "#df[251:300]"
   ]
  },
  {
   "cell_type": "code",
   "execution_count": 1862,
   "id": "0f63a228",
   "metadata": {},
   "outputs": [
    {
     "name": "stderr",
     "output_type": "stream",
     "text": [
      "C:\\Users\\biuro\\AppData\\Local\\Temp/ipykernel_7036/3061498916.py:1: SettingWithCopyWarning: \n",
      "A value is trying to be set on a copy of a slice from a DataFrame\n",
      "\n",
      "See the caveats in the documentation: https://pandas.pydata.org/pandas-docs/stable/user_guide/indexing.html#returning-a-view-versus-a-copy\n",
      "  df.telefon[269]='579331097'\n"
     ]
    }
   ],
   "source": [
    "df.telefon[269]='579331097'"
   ]
  },
  {
   "cell_type": "code",
   "execution_count": 1863,
   "id": "b275fde7",
   "metadata": {},
   "outputs": [
    {
     "name": "stderr",
     "output_type": "stream",
     "text": [
      "C:\\Users\\biuro\\AppData\\Local\\Temp/ipykernel_7036/691298269.py:1: SettingWithCopyWarning: \n",
      "A value is trying to be set on a copy of a slice from a DataFrame\n",
      "\n",
      "See the caveats in the documentation: https://pandas.pydata.org/pandas-docs/stable/user_guide/indexing.html#returning-a-view-versus-a-copy\n",
      "  df.telefon[272]='500224204'\n"
     ]
    }
   ],
   "source": [
    "df.telefon[272]='500224204'"
   ]
  },
  {
   "cell_type": "code",
   "execution_count": 1864,
   "id": "6c2ecf5c",
   "metadata": {},
   "outputs": [
    {
     "name": "stderr",
     "output_type": "stream",
     "text": [
      "C:\\Users\\biuro\\AppData\\Local\\Temp/ipykernel_7036/419602114.py:1: SettingWithCopyWarning: \n",
      "A value is trying to be set on a copy of a slice from a DataFrame\n",
      "\n",
      "See the caveats in the documentation: https://pandas.pydata.org/pandas-docs/stable/user_guide/indexing.html#returning-a-view-versus-a-copy\n",
      "  df.telefon[280]='606103055'\n"
     ]
    }
   ],
   "source": [
    "df.telefon[280]='606103055'"
   ]
  },
  {
   "cell_type": "code",
   "execution_count": 1865,
   "id": "586aa9a6",
   "metadata": {},
   "outputs": [
    {
     "name": "stderr",
     "output_type": "stream",
     "text": [
      "C:\\Users\\biuro\\AppData\\Local\\Temp/ipykernel_7036/48055189.py:1: SettingWithCopyWarning: \n",
      "A value is trying to be set on a copy of a slice from a DataFrame\n",
      "\n",
      "See the caveats in the documentation: https://pandas.pydata.org/pandas-docs/stable/user_guide/indexing.html#returning-a-view-versus-a-copy\n",
      "  df.telefon[295]='500254177'\n"
     ]
    }
   ],
   "source": [
    "df.telefon[295]='500254177'"
   ]
  },
  {
   "cell_type": "code",
   "execution_count": 1866,
   "id": "0f777f05",
   "metadata": {},
   "outputs": [],
   "source": [
    "#df[301:350]"
   ]
  },
  {
   "cell_type": "code",
   "execution_count": 1867,
   "id": "73545962",
   "metadata": {},
   "outputs": [
    {
     "name": "stderr",
     "output_type": "stream",
     "text": [
      "C:\\Users\\biuro\\AppData\\Local\\Temp/ipykernel_7036/1450547245.py:1: SettingWithCopyWarning: \n",
      "A value is trying to be set on a copy of a slice from a DataFrame\n",
      "\n",
      "See the caveats in the documentation: https://pandas.pydata.org/pandas-docs/stable/user_guide/indexing.html#returning-a-view-versus-a-copy\n",
      "  df.telefon[301]= df.telefon[301][0:9]\n"
     ]
    }
   ],
   "source": [
    "df.telefon[301]= df.telefon[301][0:9]"
   ]
  },
  {
   "cell_type": "code",
   "execution_count": 1868,
   "id": "7aaca85f",
   "metadata": {},
   "outputs": [
    {
     "data": {
      "text/plain": [
       "'609441999;530694721'"
      ]
     },
     "execution_count": 1868,
     "metadata": {},
     "output_type": "execute_result"
    }
   ],
   "source": [
    "df.telefon[311]"
   ]
  },
  {
   "cell_type": "code",
   "execution_count": 1869,
   "id": "df5d347c",
   "metadata": {},
   "outputs": [
    {
     "name": "stderr",
     "output_type": "stream",
     "text": [
      "C:\\Users\\biuro\\AppData\\Local\\Temp/ipykernel_7036/3478813265.py:1: SettingWithCopyWarning: \n",
      "A value is trying to be set on a copy of a slice from a DataFrame\n",
      "\n",
      "See the caveats in the documentation: https://pandas.pydata.org/pandas-docs/stable/user_guide/indexing.html#returning-a-view-versus-a-copy\n",
      "  df.telefon[311]=df.telefon[311][0:9]\n"
     ]
    }
   ],
   "source": [
    "df.telefon[311]=df.telefon[311][0:9]"
   ]
  },
  {
   "cell_type": "code",
   "execution_count": 1870,
   "id": "0d30933a",
   "metadata": {},
   "outputs": [
    {
     "name": "stderr",
     "output_type": "stream",
     "text": [
      "C:\\Users\\biuro\\AppData\\Local\\Temp/ipykernel_7036/361939743.py:1: SettingWithCopyWarning: \n",
      "A value is trying to be set on a copy of a slice from a DataFrame\n",
      "\n",
      "See the caveats in the documentation: https://pandas.pydata.org/pandas-docs/stable/user_guide/indexing.html#returning-a-view-versus-a-copy\n",
      "  df.telefon[313]='502162664'\n"
     ]
    }
   ],
   "source": [
    "df.telefon[313]='502162664'"
   ]
  },
  {
   "cell_type": "code",
   "execution_count": 1871,
   "id": "4796f317",
   "metadata": {},
   "outputs": [
    {
     "name": "stderr",
     "output_type": "stream",
     "text": [
      "C:\\Users\\biuro\\AppData\\Local\\Temp/ipykernel_7036/3238908565.py:1: SettingWithCopyWarning: \n",
      "A value is trying to be set on a copy of a slice from a DataFrame\n",
      "\n",
      "See the caveats in the documentation: https://pandas.pydata.org/pandas-docs/stable/user_guide/indexing.html#returning-a-view-versus-a-copy\n",
      "  df.telefon[324]=df.telefon[324][0:9]\n"
     ]
    }
   ],
   "source": [
    "df.telefon[324]=df.telefon[324][0:9]"
   ]
  },
  {
   "cell_type": "code",
   "execution_count": 1872,
   "id": "b913efa5",
   "metadata": {},
   "outputs": [
    {
     "data": {
      "text/plain": [
       "'505010064'"
      ]
     },
     "execution_count": 1872,
     "metadata": {},
     "output_type": "execute_result"
    }
   ],
   "source": [
    "df.telefon[324][0:9]"
   ]
  },
  {
   "cell_type": "code",
   "execution_count": 1873,
   "id": "1564b7b0",
   "metadata": {},
   "outputs": [
    {
     "name": "stderr",
     "output_type": "stream",
     "text": [
      "C:\\Users\\biuro\\AppData\\Local\\Temp/ipykernel_7036/3335323412.py:1: SettingWithCopyWarning: \n",
      "A value is trying to be set on a copy of a slice from a DataFrame\n",
      "\n",
      "See the caveats in the documentation: https://pandas.pydata.org/pandas-docs/stable/user_guide/indexing.html#returning-a-view-versus-a-copy\n",
      "  df.telefon[328]=df.telefon[328][0:9]\n"
     ]
    }
   ],
   "source": [
    "df.telefon[328]=df.telefon[328][0:9]"
   ]
  },
  {
   "cell_type": "code",
   "execution_count": 1874,
   "id": "44e38e2a",
   "metadata": {},
   "outputs": [
    {
     "name": "stderr",
     "output_type": "stream",
     "text": [
      "C:\\Users\\biuro\\AppData\\Local\\Temp/ipykernel_7036/1376200304.py:1: SettingWithCopyWarning: \n",
      "A value is trying to be set on a copy of a slice from a DataFrame\n",
      "\n",
      "See the caveats in the documentation: https://pandas.pydata.org/pandas-docs/stable/user_guide/indexing.html#returning-a-view-versus-a-copy\n",
      "  df.telefon[329]=df.telefon[329][0:9]\n"
     ]
    }
   ],
   "source": [
    "df.telefon[329]=df.telefon[329][0:9]"
   ]
  },
  {
   "cell_type": "code",
   "execution_count": 1875,
   "id": "7922542d",
   "metadata": {},
   "outputs": [
    {
     "name": "stderr",
     "output_type": "stream",
     "text": [
      "C:\\Users\\biuro\\AppData\\Local\\Temp/ipykernel_7036/3933681556.py:1: SettingWithCopyWarning: \n",
      "A value is trying to be set on a copy of a slice from a DataFrame\n",
      "\n",
      "See the caveats in the documentation: https://pandas.pydata.org/pandas-docs/stable/user_guide/indexing.html#returning-a-view-versus-a-copy\n",
      "  df.telefon[332]=df.telefon[332][0:9]\n"
     ]
    }
   ],
   "source": [
    "df.telefon[332]=df.telefon[332][0:9]"
   ]
  },
  {
   "cell_type": "code",
   "execution_count": 1876,
   "id": "c4809bc5",
   "metadata": {},
   "outputs": [],
   "source": [
    "#df[351:400]"
   ]
  },
  {
   "cell_type": "code",
   "execution_count": 1877,
   "id": "4a741b1b",
   "metadata": {},
   "outputs": [
    {
     "name": "stderr",
     "output_type": "stream",
     "text": [
      "C:\\Users\\biuro\\AppData\\Local\\Temp/ipykernel_7036/36209973.py:1: SettingWithCopyWarning: \n",
      "A value is trying to be set on a copy of a slice from a DataFrame\n",
      "\n",
      "See the caveats in the documentation: https://pandas.pydata.org/pandas-docs/stable/user_guide/indexing.html#returning-a-view-versus-a-copy\n",
      "  df.telefon[353]=df.telefon[353][0:9]\n",
      "C:\\Users\\biuro\\AppData\\Local\\Temp/ipykernel_7036/36209973.py:2: SettingWithCopyWarning: \n",
      "A value is trying to be set on a copy of a slice from a DataFrame\n",
      "\n",
      "See the caveats in the documentation: https://pandas.pydata.org/pandas-docs/stable/user_guide/indexing.html#returning-a-view-versus-a-copy\n",
      "  df.telefon[395]=df.telefon[395][0:9]\n",
      "C:\\Users\\biuro\\AppData\\Local\\Temp/ipykernel_7036/36209973.py:3: SettingWithCopyWarning: \n",
      "A value is trying to be set on a copy of a slice from a DataFrame\n",
      "\n",
      "See the caveats in the documentation: https://pandas.pydata.org/pandas-docs/stable/user_guide/indexing.html#returning-a-view-versus-a-copy\n",
      "  df.telefon[399]=df.telefon[399][0:9]\n"
     ]
    }
   ],
   "source": [
    "df.telefon[353]=df.telefon[353][0:9]\n",
    "df.telefon[395]=df.telefon[395][0:9]\n",
    "df.telefon[399]=df.telefon[399][0:9]"
   ]
  },
  {
   "cell_type": "code",
   "execution_count": 1878,
   "id": "e3579807",
   "metadata": {},
   "outputs": [],
   "source": [
    "#df[401:450]"
   ]
  },
  {
   "cell_type": "code",
   "execution_count": 1879,
   "id": "6a47a31f",
   "metadata": {},
   "outputs": [
    {
     "name": "stderr",
     "output_type": "stream",
     "text": [
      "C:\\Users\\biuro\\AppData\\Local\\Temp/ipykernel_7036/3974763264.py:1: SettingWithCopyWarning: \n",
      "A value is trying to be set on a copy of a slice from a DataFrame\n",
      "\n",
      "See the caveats in the documentation: https://pandas.pydata.org/pandas-docs/stable/user_guide/indexing.html#returning-a-view-versus-a-copy\n",
      "  df.telefon[405]=df.telefon[405][0:9]\n",
      "C:\\Users\\biuro\\AppData\\Local\\Temp/ipykernel_7036/3974763264.py:2: SettingWithCopyWarning: \n",
      "A value is trying to be set on a copy of a slice from a DataFrame\n",
      "\n",
      "See the caveats in the documentation: https://pandas.pydata.org/pandas-docs/stable/user_guide/indexing.html#returning-a-view-versus-a-copy\n",
      "  df.telefon[409]=df.telefon[409][0:9]\n"
     ]
    }
   ],
   "source": [
    "df.telefon[405]=df.telefon[405][0:9]\n",
    "df.telefon[409]=df.telefon[409][0:9]"
   ]
  },
  {
   "cell_type": "code",
   "execution_count": 1880,
   "id": "307018e1",
   "metadata": {},
   "outputs": [
    {
     "name": "stderr",
     "output_type": "stream",
     "text": [
      "C:\\Users\\biuro\\AppData\\Local\\Temp/ipykernel_7036/2003999898.py:1: SettingWithCopyWarning: \n",
      "A value is trying to be set on a copy of a slice from a DataFrame\n",
      "\n",
      "See the caveats in the documentation: https://pandas.pydata.org/pandas-docs/stable/user_guide/indexing.html#returning-a-view-versus-a-copy\n",
      "  df.mail[427]='marekk608@wp.pl'\n"
     ]
    }
   ],
   "source": [
    "df.mail[427]='marekk608@wp.pl'"
   ]
  },
  {
   "cell_type": "code",
   "execution_count": 1881,
   "id": "17891733",
   "metadata": {},
   "outputs": [],
   "source": [
    "#df[451:500]"
   ]
  },
  {
   "cell_type": "code",
   "execution_count": 1882,
   "id": "4f530df8",
   "metadata": {},
   "outputs": [
    {
     "name": "stderr",
     "output_type": "stream",
     "text": [
      "C:\\Users\\biuro\\AppData\\Local\\Temp/ipykernel_7036/3104103696.py:1: SettingWithCopyWarning: \n",
      "A value is trying to be set on a copy of a slice from a DataFrame\n",
      "\n",
      "See the caveats in the documentation: https://pandas.pydata.org/pandas-docs/stable/user_guide/indexing.html#returning-a-view-versus-a-copy\n",
      "  df.telefon[480]=df.telefon[480][0:9]\n"
     ]
    }
   ],
   "source": [
    "df.telefon[480]=df.telefon[480][0:9]"
   ]
  },
  {
   "cell_type": "code",
   "execution_count": 1883,
   "id": "50bbf797",
   "metadata": {},
   "outputs": [],
   "source": [
    "#df[501:]"
   ]
  },
  {
   "cell_type": "code",
   "execution_count": 1884,
   "id": "d2c42b22",
   "metadata": {},
   "outputs": [
    {
     "name": "stderr",
     "output_type": "stream",
     "text": [
      "C:\\Users\\biuro\\AppData\\Local\\Temp/ipykernel_7036/792475579.py:1: SettingWithCopyWarning: \n",
      "A value is trying to be set on a copy of a slice from a DataFrame\n",
      "\n",
      "See the caveats in the documentation: https://pandas.pydata.org/pandas-docs/stable/user_guide/indexing.html#returning-a-view-versus-a-copy\n",
      "  df.telefon[510]=df.telefon[510][0:9]\n"
     ]
    }
   ],
   "source": [
    "df.telefon[510]=df.telefon[510][0:9]"
   ]
  },
  {
   "cell_type": "code",
   "execution_count": 1885,
   "id": "2f6c7ece",
   "metadata": {},
   "outputs": [
    {
     "name": "stderr",
     "output_type": "stream",
     "text": [
      "C:\\Users\\biuro\\AppData\\Local\\Temp/ipykernel_7036/604662755.py:1: SettingWithCopyWarning: \n",
      "A value is trying to be set on a copy of a slice from a DataFrame\n",
      "\n",
      "See the caveats in the documentation: https://pandas.pydata.org/pandas-docs/stable/user_guide/indexing.html#returning-a-view-versus-a-copy\n",
      "  df.kwota_brutto[498]='141 450,00 zł'\n"
     ]
    }
   ],
   "source": [
    "df.kwota_brutto[498]='141 450,00 zł'"
   ]
  },
  {
   "cell_type": "code",
   "execution_count": 1886,
   "id": "90bec6f2",
   "metadata": {},
   "outputs": [
    {
     "data": {
      "text/plain": [
       "'141 450,00 zł'"
      ]
     },
     "execution_count": 1886,
     "metadata": {},
     "output_type": "execute_result"
    }
   ],
   "source": [
    "df.kwota_brutto[498]"
   ]
  },
  {
   "cell_type": "code",
   "execution_count": 1887,
   "id": "de6ba326",
   "metadata": {},
   "outputs": [
    {
     "name": "stderr",
     "output_type": "stream",
     "text": [
      "C:\\Users\\biuro\\AppData\\Local\\Temp/ipykernel_7036/3246103621.py:1: SettingWithCopyWarning: \n",
      "A value is trying to be set on a copy of a slice from a DataFrame\n",
      "\n",
      "See the caveats in the documentation: https://pandas.pydata.org/pandas-docs/stable/user_guide/indexing.html#returning-a-view-versus-a-copy\n",
      "  df.kwota_brutto[403]='13 590,00zł'\n"
     ]
    }
   ],
   "source": [
    "df.kwota_brutto[403]='13 590,00zł'"
   ]
  },
  {
   "cell_type": "code",
   "execution_count": 1888,
   "id": "b1829c9b",
   "metadata": {},
   "outputs": [
    {
     "name": "stderr",
     "output_type": "stream",
     "text": [
      "C:\\Users\\biuro\\AppData\\Local\\Temp/ipykernel_7036/3600867397.py:1: SettingWithCopyWarning: \n",
      "A value is trying to be set on a copy of a slice from a DataFrame\n",
      "\n",
      "See the caveats in the documentation: https://pandas.pydata.org/pandas-docs/stable/user_guide/indexing.html#returning-a-view-versus-a-copy\n",
      "  df.kwota_brutto[373]='20 000,00zł'\n"
     ]
    }
   ],
   "source": [
    "df.kwota_brutto[373]='20 000,00zł'"
   ]
  },
  {
   "cell_type": "code",
   "execution_count": 1889,
   "id": "3df39ddb",
   "metadata": {},
   "outputs": [
    {
     "name": "stderr",
     "output_type": "stream",
     "text": [
      "C:\\Users\\biuro\\AppData\\Local\\Temp/ipykernel_7036/1255727398.py:1: SettingWithCopyWarning: \n",
      "A value is trying to be set on a copy of a slice from a DataFrame\n",
      "\n",
      "See the caveats in the documentation: https://pandas.pydata.org/pandas-docs/stable/user_guide/indexing.html#returning-a-view-versus-a-copy\n",
      "  df.kwota_brutto[303]='39 500,00zł'\n"
     ]
    }
   ],
   "source": [
    "df.kwota_brutto[303]='39 500,00zł'"
   ]
  },
  {
   "cell_type": "code",
   "execution_count": 1890,
   "id": "f40a9bc6",
   "metadata": {},
   "outputs": [
    {
     "name": "stderr",
     "output_type": "stream",
     "text": [
      "C:\\Users\\biuro\\AppData\\Local\\Temp/ipykernel_7036/832383003.py:1: SettingWithCopyWarning: \n",
      "A value is trying to be set on a copy of a slice from a DataFrame\n",
      "\n",
      "See the caveats in the documentation: https://pandas.pydata.org/pandas-docs/stable/user_guide/indexing.html#returning-a-view-versus-a-copy\n",
      "  df.kwota_brutto[287]='24 000,00zł'\n"
     ]
    }
   ],
   "source": [
    "df.kwota_brutto[287]='24 000,00zł'"
   ]
  },
  {
   "cell_type": "code",
   "execution_count": 1891,
   "id": "d8bc82e4",
   "metadata": {},
   "outputs": [
    {
     "name": "stderr",
     "output_type": "stream",
     "text": [
      "C:\\Users\\biuro\\AppData\\Local\\Temp/ipykernel_7036/2468144419.py:1: SettingWithCopyWarning: \n",
      "A value is trying to be set on a copy of a slice from a DataFrame\n",
      "\n",
      "See the caveats in the documentation: https://pandas.pydata.org/pandas-docs/stable/user_guide/indexing.html#returning-a-view-versus-a-copy\n",
      "  df.kwota_brutto[247]='20 688,00zł'\n"
     ]
    }
   ],
   "source": [
    "df.kwota_brutto[247]='20 688,00zł'"
   ]
  },
  {
   "cell_type": "code",
   "execution_count": 1892,
   "id": "c236d088",
   "metadata": {},
   "outputs": [
    {
     "name": "stderr",
     "output_type": "stream",
     "text": [
      "C:\\Users\\biuro\\AppData\\Local\\Temp/ipykernel_7036/1299276084.py:1: SettingWithCopyWarning: \n",
      "A value is trying to be set on a copy of a slice from a DataFrame\n",
      "\n",
      "See the caveats in the documentation: https://pandas.pydata.org/pandas-docs/stable/user_guide/indexing.html#returning-a-view-versus-a-copy\n",
      "  df.kwota_brutto[217]='47 200,00zł'\n"
     ]
    }
   ],
   "source": [
    "df.kwota_brutto[217]='47 200,00zł'"
   ]
  },
  {
   "cell_type": "code",
   "execution_count": 1893,
   "id": "63d5a2fb",
   "metadata": {},
   "outputs": [],
   "source": [
    "#df"
   ]
  },
  {
   "cell_type": "markdown",
   "id": "a3e25b35",
   "metadata": {},
   "source": [
    "### delete manually some rows with concrete values in nazwisko column"
   ]
  },
  {
   "cell_type": "code",
   "execution_count": 1894,
   "id": "0055c3f7",
   "metadata": {},
   "outputs": [],
   "source": [
    "#df[df.nazwisko=='Świętorzecki']"
   ]
  },
  {
   "cell_type": "code",
   "execution_count": 1895,
   "id": "ce6f309a",
   "metadata": {},
   "outputs": [],
   "source": [
    "df.drop(26, axis=0, inplace=True)"
   ]
  },
  {
   "cell_type": "code",
   "execution_count": 1896,
   "id": "c76b5eff",
   "metadata": {},
   "outputs": [],
   "source": [
    "#df[20:30]"
   ]
  },
  {
   "cell_type": "code",
   "execution_count": 1897,
   "id": "8449aa09",
   "metadata": {},
   "outputs": [],
   "source": [
    "#df[df.nazwisko=='Izbicki']"
   ]
  },
  {
   "cell_type": "code",
   "execution_count": 1898,
   "id": "db36f41d",
   "metadata": {},
   "outputs": [],
   "source": [
    "df.drop(33, axis=0, inplace=True)"
   ]
  },
  {
   "cell_type": "code",
   "execution_count": 1899,
   "id": "fbb1e45f",
   "metadata": {},
   "outputs": [],
   "source": [
    "#df[30:40]"
   ]
  },
  {
   "cell_type": "code",
   "execution_count": 1900,
   "id": "cf0878eb",
   "metadata": {},
   "outputs": [],
   "source": [
    "#df[df.nazwisko=='Skutnik']"
   ]
  },
  {
   "cell_type": "code",
   "execution_count": 1901,
   "id": "36a1045b",
   "metadata": {},
   "outputs": [],
   "source": [
    "df.drop(61, axis=0, inplace=True)"
   ]
  },
  {
   "cell_type": "code",
   "execution_count": 1902,
   "id": "103f7082",
   "metadata": {},
   "outputs": [],
   "source": [
    "#df[df.nazwisko=='Kulas']"
   ]
  },
  {
   "cell_type": "code",
   "execution_count": 1903,
   "id": "827b01b3",
   "metadata": {},
   "outputs": [],
   "source": [
    "df.drop(70, axis=0, inplace=True)"
   ]
  },
  {
   "cell_type": "code",
   "execution_count": 1904,
   "id": "3834ce36",
   "metadata": {},
   "outputs": [],
   "source": [
    "#df[df.nazwisko=='Pomian']"
   ]
  },
  {
   "cell_type": "code",
   "execution_count": 1905,
   "id": "eaac6708",
   "metadata": {},
   "outputs": [],
   "source": [
    "df.drop(100, axis=0, inplace=True)"
   ]
  },
  {
   "cell_type": "code",
   "execution_count": 1906,
   "id": "2f873b09",
   "metadata": {},
   "outputs": [],
   "source": [
    "#df[df.nazwisko=='Kasianowicz']"
   ]
  },
  {
   "cell_type": "code",
   "execution_count": 1907,
   "id": "abfcd40f",
   "metadata": {},
   "outputs": [],
   "source": [
    "df.drop(108, axis=0, inplace=True)"
   ]
  },
  {
   "cell_type": "code",
   "execution_count": 1908,
   "id": "42ec5b90",
   "metadata": {},
   "outputs": [],
   "source": [
    "#df[df.nazwisko=='Ciborowski']"
   ]
  },
  {
   "cell_type": "code",
   "execution_count": 1909,
   "id": "3be046a3",
   "metadata": {},
   "outputs": [],
   "source": [
    "df.drop(109, axis=0, inplace=True)"
   ]
  },
  {
   "cell_type": "code",
   "execution_count": 1910,
   "id": "e934d2a8",
   "metadata": {},
   "outputs": [],
   "source": [
    "#df[df.nazwisko=='Jabłoński']"
   ]
  },
  {
   "cell_type": "code",
   "execution_count": 1911,
   "id": "6e65d070",
   "metadata": {},
   "outputs": [],
   "source": [
    "df.drop(113, axis=0, inplace=True)"
   ]
  },
  {
   "cell_type": "code",
   "execution_count": 1912,
   "id": "eee45f71",
   "metadata": {},
   "outputs": [],
   "source": [
    "#df[df.nazwisko=='Motolko']"
   ]
  },
  {
   "cell_type": "code",
   "execution_count": 1913,
   "id": "80a2f78e",
   "metadata": {},
   "outputs": [],
   "source": [
    "df.drop(118, axis=0, inplace=True)"
   ]
  },
  {
   "cell_type": "code",
   "execution_count": 1914,
   "id": "bc5a2094",
   "metadata": {},
   "outputs": [],
   "source": [
    "#df[df.nazwisko=='Charytoniuk']"
   ]
  },
  {
   "cell_type": "code",
   "execution_count": 1915,
   "id": "3a77252e",
   "metadata": {},
   "outputs": [],
   "source": [
    "df.drop(127, axis=0, inplace=True)"
   ]
  },
  {
   "cell_type": "code",
   "execution_count": 1916,
   "id": "30117eaa",
   "metadata": {},
   "outputs": [],
   "source": [
    "#df[df.nazwisko=='Tomczak']"
   ]
  },
  {
   "cell_type": "code",
   "execution_count": 1917,
   "id": "7ea019df",
   "metadata": {},
   "outputs": [],
   "source": [
    "df.drop(131, axis=0, inplace=True)"
   ]
  },
  {
   "cell_type": "code",
   "execution_count": 1918,
   "id": "91fcc793",
   "metadata": {},
   "outputs": [],
   "source": [
    "#df[df.nazwisko=='Brodowski']"
   ]
  },
  {
   "cell_type": "code",
   "execution_count": 1919,
   "id": "65a88ce3",
   "metadata": {},
   "outputs": [],
   "source": [
    "df.drop(166, axis=0, inplace=True)"
   ]
  },
  {
   "cell_type": "code",
   "execution_count": 1920,
   "id": "8361522e",
   "metadata": {},
   "outputs": [],
   "source": [
    "#df[df.nazwisko=='Kulikowski']"
   ]
  },
  {
   "cell_type": "code",
   "execution_count": 1921,
   "id": "086a386b",
   "metadata": {},
   "outputs": [],
   "source": [
    "df.drop(177, axis=0, inplace=True)"
   ]
  },
  {
   "cell_type": "code",
   "execution_count": 1922,
   "id": "3146ff7f",
   "metadata": {},
   "outputs": [],
   "source": [
    "#df[df.nazwisko=='Truszkowski']"
   ]
  },
  {
   "cell_type": "code",
   "execution_count": 1923,
   "id": "553054a5",
   "metadata": {},
   "outputs": [],
   "source": [
    "df.drop(183, axis=0, inplace=True)"
   ]
  },
  {
   "cell_type": "code",
   "execution_count": 1924,
   "id": "a3ad3c62",
   "metadata": {},
   "outputs": [],
   "source": [
    "#df[df.nazwisko=='Buszko']"
   ]
  },
  {
   "cell_type": "code",
   "execution_count": 1925,
   "id": "b1287c58",
   "metadata": {},
   "outputs": [],
   "source": [
    "#df[df.nazwisko=='Panasiuk']"
   ]
  },
  {
   "cell_type": "code",
   "execution_count": 1926,
   "id": "b2153acb",
   "metadata": {},
   "outputs": [],
   "source": [
    "df.drop(196, axis=0, inplace=True)"
   ]
  },
  {
   "cell_type": "code",
   "execution_count": 1927,
   "id": "c53eab6d",
   "metadata": {},
   "outputs": [],
   "source": [
    "df.drop(222, axis=0, inplace=True)"
   ]
  },
  {
   "cell_type": "code",
   "execution_count": 1928,
   "id": "3ac3740e",
   "metadata": {},
   "outputs": [],
   "source": [
    "#df[df.nazwisko=='Topczyłko']"
   ]
  },
  {
   "cell_type": "code",
   "execution_count": 1929,
   "id": "35bcd4a1",
   "metadata": {},
   "outputs": [],
   "source": [
    "df.drop(224, axis=0, inplace=True)"
   ]
  },
  {
   "cell_type": "code",
   "execution_count": 1930,
   "id": "e2dab5de",
   "metadata": {},
   "outputs": [],
   "source": [
    "#df[df.nazwisko=='Filipowicz']"
   ]
  },
  {
   "cell_type": "code",
   "execution_count": 1931,
   "id": "83a364df",
   "metadata": {},
   "outputs": [],
   "source": [
    "df.drop(232, axis=0, inplace=True)"
   ]
  },
  {
   "cell_type": "code",
   "execution_count": 1932,
   "id": "c825557b",
   "metadata": {},
   "outputs": [],
   "source": [
    "#df[df.nazwisko=='Szklarzewski ']"
   ]
  },
  {
   "cell_type": "code",
   "execution_count": 1933,
   "id": "341a7226",
   "metadata": {},
   "outputs": [],
   "source": [
    "df.drop(265, axis=0, inplace=True)"
   ]
  },
  {
   "cell_type": "code",
   "execution_count": 1934,
   "id": "1d59f27b",
   "metadata": {},
   "outputs": [],
   "source": [
    "#df[df.nazwisko=='Olszewski']"
   ]
  },
  {
   "cell_type": "code",
   "execution_count": 1935,
   "id": "f4bf32ac",
   "metadata": {},
   "outputs": [],
   "source": [
    "df.drop(266, axis=0, inplace=True)"
   ]
  },
  {
   "cell_type": "code",
   "execution_count": 1936,
   "id": "b1b76093",
   "metadata": {},
   "outputs": [],
   "source": [
    "#df[df.nazwisko=='Wasilewski']"
   ]
  },
  {
   "cell_type": "code",
   "execution_count": 1937,
   "id": "e61acf16",
   "metadata": {},
   "outputs": [],
   "source": [
    "df.drop(281, axis=0, inplace=True)"
   ]
  },
  {
   "cell_type": "code",
   "execution_count": 1938,
   "id": "a8affe71",
   "metadata": {},
   "outputs": [],
   "source": [
    "#df[df.nazwisko=='Szymborska']"
   ]
  },
  {
   "cell_type": "code",
   "execution_count": 1939,
   "id": "9e1af422",
   "metadata": {},
   "outputs": [],
   "source": [
    "df.drop(289, axis=0, inplace=True)"
   ]
  },
  {
   "cell_type": "code",
   "execution_count": 1940,
   "id": "dec77e1b",
   "metadata": {},
   "outputs": [],
   "source": [
    "#df[df.nazwisko=='Ambroziak']"
   ]
  },
  {
   "cell_type": "code",
   "execution_count": 1941,
   "id": "c6909dc7",
   "metadata": {},
   "outputs": [],
   "source": [
    "df.drop(291, axis=0, inplace=True)"
   ]
  },
  {
   "cell_type": "code",
   "execution_count": 1942,
   "id": "2a57b6a4",
   "metadata": {},
   "outputs": [],
   "source": [
    "#df[df.nazwisko=='Litwin']"
   ]
  },
  {
   "cell_type": "code",
   "execution_count": 1943,
   "id": "72f2b4c1",
   "metadata": {},
   "outputs": [],
   "source": [
    "df.drop(311, axis=0, inplace=True)"
   ]
  },
  {
   "cell_type": "code",
   "execution_count": 1944,
   "id": "0997fd64",
   "metadata": {},
   "outputs": [],
   "source": [
    "#df[df.nazwisko=='Skoczyńska']"
   ]
  },
  {
   "cell_type": "code",
   "execution_count": 1945,
   "id": "8692e1aa",
   "metadata": {},
   "outputs": [],
   "source": [
    "df.drop(314, axis=0, inplace=True)"
   ]
  },
  {
   "cell_type": "code",
   "execution_count": 1946,
   "id": "0b9bb85f",
   "metadata": {},
   "outputs": [],
   "source": [
    "#df[df.nazwisko=='Romuald Kazimierz']"
   ]
  },
  {
   "cell_type": "code",
   "execution_count": 1947,
   "id": "71b36797",
   "metadata": {},
   "outputs": [],
   "source": [
    "df.drop(320, axis=0, inplace=True)"
   ]
  },
  {
   "cell_type": "code",
   "execution_count": 1948,
   "id": "92549505",
   "metadata": {},
   "outputs": [],
   "source": [
    "#df[df.nazwisko=='Kasjan']"
   ]
  },
  {
   "cell_type": "code",
   "execution_count": 1949,
   "id": "cd88a2d7",
   "metadata": {},
   "outputs": [],
   "source": [
    "df.drop(337, axis=0, inplace=True)"
   ]
  },
  {
   "cell_type": "code",
   "execution_count": 1950,
   "id": "265bf47e",
   "metadata": {},
   "outputs": [],
   "source": [
    "#df[df.nazwisko=='STREET BAR KRZYSZTOF NOWAK']"
   ]
  },
  {
   "cell_type": "code",
   "execution_count": 1951,
   "id": "e67e43c8",
   "metadata": {},
   "outputs": [],
   "source": [
    "df.drop(338, axis=0, inplace=True)"
   ]
  },
  {
   "cell_type": "code",
   "execution_count": 1952,
   "id": "1d7e8af9",
   "metadata": {},
   "outputs": [],
   "source": [
    "#df[df.nazwisko=='Szerszeń']"
   ]
  },
  {
   "cell_type": "code",
   "execution_count": 1953,
   "id": "c3824d80",
   "metadata": {},
   "outputs": [],
   "source": [
    "df.drop(341, axis=0, inplace=True)"
   ]
  },
  {
   "cell_type": "code",
   "execution_count": 1954,
   "id": "3855b519",
   "metadata": {},
   "outputs": [],
   "source": [
    "#df[df.nazwisko=='Propier']"
   ]
  },
  {
   "cell_type": "code",
   "execution_count": 1955,
   "id": "45c9893f",
   "metadata": {},
   "outputs": [],
   "source": [
    "df.drop(352, axis=0, inplace=True)"
   ]
  },
  {
   "cell_type": "code",
   "execution_count": 1956,
   "id": "1b20f5f3",
   "metadata": {},
   "outputs": [],
   "source": [
    "#df[df.nazwisko=='Marciszewski']"
   ]
  },
  {
   "cell_type": "code",
   "execution_count": 1957,
   "id": "a6015f54",
   "metadata": {},
   "outputs": [],
   "source": [
    "df.drop(353, axis=0, inplace=True)"
   ]
  },
  {
   "cell_type": "code",
   "execution_count": 1958,
   "id": "03610507",
   "metadata": {},
   "outputs": [],
   "source": [
    "#df[df.nazwisko=='Szczęsny-Wróblewski']"
   ]
  },
  {
   "cell_type": "code",
   "execution_count": 1959,
   "id": "c1e5ab8a",
   "metadata": {},
   "outputs": [],
   "source": [
    "df.drop(366, axis=0, inplace=True)"
   ]
  },
  {
   "cell_type": "code",
   "execution_count": 1960,
   "id": "6ea1df00",
   "metadata": {},
   "outputs": [],
   "source": [
    "#df[df.nazwisko=='Piórkowski']"
   ]
  },
  {
   "cell_type": "code",
   "execution_count": 1961,
   "id": "06a4e7f6",
   "metadata": {},
   "outputs": [],
   "source": [
    "df.drop(421, axis=0, inplace=True)"
   ]
  },
  {
   "cell_type": "code",
   "execution_count": 1962,
   "id": "ca972ea0",
   "metadata": {},
   "outputs": [],
   "source": [
    "#df[df.nazwisko=='Łazarski']"
   ]
  },
  {
   "cell_type": "code",
   "execution_count": 1963,
   "id": "2ea61a41",
   "metadata": {},
   "outputs": [],
   "source": [
    "df.drop(422, axis=0, inplace=True)"
   ]
  },
  {
   "cell_type": "code",
   "execution_count": 1964,
   "id": "9e34f8fb",
   "metadata": {},
   "outputs": [],
   "source": [
    "df.drop(423, axis=0, inplace=True)"
   ]
  },
  {
   "cell_type": "code",
   "execution_count": 1965,
   "id": "7071e849",
   "metadata": {},
   "outputs": [],
   "source": [
    "#df[df.nazwisko=='Piktel']"
   ]
  },
  {
   "cell_type": "code",
   "execution_count": 1966,
   "id": "fe3f6599",
   "metadata": {},
   "outputs": [],
   "source": [
    "df.drop(438, axis=0, inplace=True)"
   ]
  },
  {
   "cell_type": "code",
   "execution_count": 1967,
   "id": "ed6a3b54",
   "metadata": {},
   "outputs": [],
   "source": [
    "#df[df.nazwisko=='Łanczowski']"
   ]
  },
  {
   "cell_type": "code",
   "execution_count": 1968,
   "id": "a4a7538b",
   "metadata": {},
   "outputs": [],
   "source": [
    "df.drop(454, axis=0, inplace=True)"
   ]
  },
  {
   "cell_type": "code",
   "execution_count": 1969,
   "id": "671807a3",
   "metadata": {},
   "outputs": [],
   "source": [
    "#df[df.nazwisko=='Dowbysz']"
   ]
  },
  {
   "cell_type": "code",
   "execution_count": 1970,
   "id": "f9644eb8",
   "metadata": {},
   "outputs": [],
   "source": [
    "df.drop(461, axis=0, inplace=True)"
   ]
  },
  {
   "cell_type": "code",
   "execution_count": 1971,
   "id": "ba3c35d6",
   "metadata": {},
   "outputs": [],
   "source": [
    "#df[df.nazwisko=='Derehajło']"
   ]
  },
  {
   "cell_type": "code",
   "execution_count": 1972,
   "id": "f5555a46",
   "metadata": {},
   "outputs": [],
   "source": [
    "df.drop(477, axis=0, inplace=True)"
   ]
  },
  {
   "cell_type": "code",
   "execution_count": 1973,
   "id": "27803921",
   "metadata": {},
   "outputs": [],
   "source": [
    "#df[df.nazwisko=='rutkowska']"
   ]
  },
  {
   "cell_type": "code",
   "execution_count": 1974,
   "id": "ea5d9f0a",
   "metadata": {},
   "outputs": [],
   "source": [
    "df.drop(478, axis=0, inplace=True)"
   ]
  },
  {
   "cell_type": "code",
   "execution_count": 1975,
   "id": "ca0753ea",
   "metadata": {},
   "outputs": [],
   "source": [
    "#df[df.nazwisko=='Brajczewski']"
   ]
  },
  {
   "cell_type": "code",
   "execution_count": 1976,
   "id": "6bccad12",
   "metadata": {},
   "outputs": [],
   "source": [
    "df.drop(503, axis=0, inplace=True)"
   ]
  },
  {
   "cell_type": "code",
   "execution_count": 1977,
   "id": "ecf5c5a9",
   "metadata": {},
   "outputs": [],
   "source": [
    "#df[df.nazwisko=='Żemojda']"
   ]
  },
  {
   "cell_type": "code",
   "execution_count": 1978,
   "id": "a08f7a2c",
   "metadata": {},
   "outputs": [],
   "source": [
    "df.drop(457, axis=0, inplace=True)"
   ]
  },
  {
   "cell_type": "markdown",
   "id": "48a1a557",
   "metadata": {},
   "source": [
    "### reset index after delete some rows"
   ]
  },
  {
   "cell_type": "code",
   "execution_count": 1979,
   "id": "a651598c",
   "metadata": {},
   "outputs": [],
   "source": [
    "df.reset_index(drop=True, inplace=True)"
   ]
  },
  {
   "cell_type": "code",
   "execution_count": 1980,
   "id": "5059c381",
   "metadata": {},
   "outputs": [],
   "source": [
    "#df"
   ]
  },
  {
   "cell_type": "markdown",
   "id": "ff24cecd",
   "metadata": {},
   "source": [
    "### check duplicates"
   ]
  },
  {
   "cell_type": "code",
   "execution_count": 1981,
   "id": "07a55ae0",
   "metadata": {},
   "outputs": [
    {
     "data": {
      "text/plain": [
       "0      False\n",
       "1      False\n",
       "2      False\n",
       "3      False\n",
       "4      False\n",
       "       ...  \n",
       "465    False\n",
       "466    False\n",
       "467    False\n",
       "468    False\n",
       "469    False\n",
       "Length: 470, dtype: bool"
      ]
     },
     "execution_count": 1981,
     "metadata": {},
     "output_type": "execute_result"
    }
   ],
   "source": [
    "df.duplicated()"
   ]
  },
  {
   "cell_type": "code",
   "execution_count": 1982,
   "id": "d8f2b2b3",
   "metadata": {},
   "outputs": [
    {
     "data": {
      "text/plain": [
       "4"
      ]
     },
     "execution_count": 1982,
     "metadata": {},
     "output_type": "execute_result"
    }
   ],
   "source": [
    "df.duplicated().sum()"
   ]
  },
  {
   "cell_type": "code",
   "execution_count": 1983,
   "id": "86d2176a",
   "metadata": {},
   "outputs": [],
   "source": [
    "#df[df.duplicated()]"
   ]
  },
  {
   "cell_type": "markdown",
   "id": "a1bf6c07",
   "metadata": {},
   "source": [
    "### unique values in miesiac_podp_umowy column"
   ]
  },
  {
   "cell_type": "code",
   "execution_count": 1984,
   "id": "b14944fd",
   "metadata": {},
   "outputs": [
    {
     "data": {
      "text/plain": [
       "array(['luty', 'marzec', 'kwiecień', 'maj', 'czerwiec', 'lipiec',\n",
       "       'sierpień', '', 'wrzesień', 'październik', 'listopad', 'grudzień',\n",
       "       'styczeń', 'kwicień- maj', 'kwiecień-maj', 'maj (marzec)',\n",
       "       'CZERWIEC', 'siepień', 'sierpien ', 'wrzesień '], dtype=object)"
      ]
     },
     "execution_count": 1984,
     "metadata": {},
     "output_type": "execute_result"
    }
   ],
   "source": [
    "df.miesiac_podp_umowy.unique()"
   ]
  },
  {
   "cell_type": "code",
   "execution_count": 1985,
   "id": "05be977b",
   "metadata": {},
   "outputs": [],
   "source": [
    "#df[df.miesiac_podp_umowy==\"\"]"
   ]
  },
  {
   "cell_type": "code",
   "execution_count": 1986,
   "id": "1ff25141",
   "metadata": {},
   "outputs": [
    {
     "name": "stderr",
     "output_type": "stream",
     "text": [
      "C:\\Users\\biuro\\AppData\\Local\\Temp/ipykernel_7036/319735439.py:1: SettingWithCopyWarning: \n",
      "A value is trying to be set on a copy of a slice from a DataFrame\n",
      "\n",
      "See the caveats in the documentation: https://pandas.pydata.org/pandas-docs/stable/user_guide/indexing.html#returning-a-view-versus-a-copy\n",
      "  df.miesiac_podp_umowy[85]='sierpień'\n"
     ]
    }
   ],
   "source": [
    "df.miesiac_podp_umowy[85]='sierpień'\n",
    "#df[84:87]"
   ]
  },
  {
   "cell_type": "code",
   "execution_count": 1987,
   "id": "ca930e7b",
   "metadata": {},
   "outputs": [
    {
     "name": "stderr",
     "output_type": "stream",
     "text": [
      "C:\\Users\\biuro\\AppData\\Local\\Temp/ipykernel_7036/33953100.py:1: SettingWithCopyWarning: \n",
      "A value is trying to be set on a copy of a slice from a DataFrame\n",
      "\n",
      "See the caveats in the documentation: https://pandas.pydata.org/pandas-docs/stable/user_guide/indexing.html#returning-a-view-versus-a-copy\n",
      "  df.miesiac_podp_umowy[339]='lipiec'\n"
     ]
    }
   ],
   "source": [
    "df.miesiac_podp_umowy[339]='lipiec'\n",
    "#df[338:341]"
   ]
  },
  {
   "cell_type": "code",
   "execution_count": 1988,
   "id": "b4792909",
   "metadata": {},
   "outputs": [
    {
     "name": "stderr",
     "output_type": "stream",
     "text": [
      "C:\\Users\\biuro\\AppData\\Local\\Temp/ipykernel_7036/61100009.py:1: SettingWithCopyWarning: \n",
      "A value is trying to be set on a copy of a slice from a DataFrame\n",
      "\n",
      "See the caveats in the documentation: https://pandas.pydata.org/pandas-docs/stable/user_guide/indexing.html#returning-a-view-versus-a-copy\n",
      "  df.miesiac_podp_umowy[458]='styczeń'\n"
     ]
    }
   ],
   "source": [
    "df.miesiac_podp_umowy[458]='styczeń'\n",
    "#df[457:460]"
   ]
  },
  {
   "cell_type": "code",
   "execution_count": 1989,
   "id": "8930d15a",
   "metadata": {},
   "outputs": [],
   "source": [
    "#df[df.miesiac_podp_umowy==\"kwicień- maj\"]"
   ]
  },
  {
   "cell_type": "code",
   "execution_count": 1990,
   "id": "29f4299f",
   "metadata": {},
   "outputs": [
    {
     "name": "stderr",
     "output_type": "stream",
     "text": [
      "C:\\Users\\biuro\\AppData\\Local\\Temp/ipykernel_7036/1577354486.py:1: SettingWithCopyWarning: \n",
      "A value is trying to be set on a copy of a slice from a DataFrame\n",
      "\n",
      "See the caveats in the documentation: https://pandas.pydata.org/pandas-docs/stable/user_guide/indexing.html#returning-a-view-versus-a-copy\n",
      "  df.miesiac_podp_umowy[299]='kwiecień'\n"
     ]
    }
   ],
   "source": [
    "df.miesiac_podp_umowy[299]='kwiecień'\n",
    "#df[298:301]"
   ]
  },
  {
   "cell_type": "code",
   "execution_count": 1991,
   "id": "dd9308ce",
   "metadata": {},
   "outputs": [],
   "source": [
    "#df[df.miesiac_podp_umowy==\"kwiecień-maj\"]"
   ]
  },
  {
   "cell_type": "code",
   "execution_count": 1992,
   "id": "db43ea56",
   "metadata": {},
   "outputs": [
    {
     "name": "stderr",
     "output_type": "stream",
     "text": [
      "C:\\Users\\biuro\\AppData\\Local\\Temp/ipykernel_7036/1835355305.py:1: SettingWithCopyWarning: \n",
      "A value is trying to be set on a copy of a slice from a DataFrame\n",
      "\n",
      "See the caveats in the documentation: https://pandas.pydata.org/pandas-docs/stable/user_guide/indexing.html#returning-a-view-versus-a-copy\n",
      "  df.miesiac_podp_umowy[300]='kwiecień'\n"
     ]
    }
   ],
   "source": [
    "df.miesiac_podp_umowy[300]='kwiecień'\n",
    "#df[299:302]"
   ]
  },
  {
   "cell_type": "code",
   "execution_count": 1993,
   "id": "636f89cc",
   "metadata": {},
   "outputs": [],
   "source": [
    "#df[df.miesiac_podp_umowy==\"maj (marzec)\"]"
   ]
  },
  {
   "cell_type": "code",
   "execution_count": 1994,
   "id": "7ea85833",
   "metadata": {},
   "outputs": [
    {
     "name": "stderr",
     "output_type": "stream",
     "text": [
      "C:\\Users\\biuro\\AppData\\Local\\Temp/ipykernel_7036/3654663236.py:1: SettingWithCopyWarning: \n",
      "A value is trying to be set on a copy of a slice from a DataFrame\n",
      "\n",
      "See the caveats in the documentation: https://pandas.pydata.org/pandas-docs/stable/user_guide/indexing.html#returning-a-view-versus-a-copy\n",
      "  df.miesiac_podp_umowy[302]='maj'\n"
     ]
    }
   ],
   "source": [
    "df.miesiac_podp_umowy[302]='maj'\n",
    "#df[301:304]"
   ]
  },
  {
   "cell_type": "code",
   "execution_count": 1995,
   "id": "b11649fe",
   "metadata": {},
   "outputs": [],
   "source": [
    "#df[df.miesiac_podp_umowy=='siepień']"
   ]
  },
  {
   "cell_type": "code",
   "execution_count": 1996,
   "id": "4d82a369",
   "metadata": {},
   "outputs": [
    {
     "name": "stderr",
     "output_type": "stream",
     "text": [
      "C:\\Users\\biuro\\AppData\\Local\\Temp/ipykernel_7036/188492750.py:1: SettingWithCopyWarning: \n",
      "A value is trying to be set on a copy of a slice from a DataFrame\n",
      "\n",
      "See the caveats in the documentation: https://pandas.pydata.org/pandas-docs/stable/user_guide/indexing.html#returning-a-view-versus-a-copy\n",
      "  df.miesiac_podp_umowy[360]='sierpień'\n"
     ]
    }
   ],
   "source": [
    "df.miesiac_podp_umowy[360]='sierpień'\n",
    "#df[359:362]"
   ]
  },
  {
   "cell_type": "code",
   "execution_count": 1997,
   "id": "c5585c34",
   "metadata": {},
   "outputs": [],
   "source": [
    "#df[df.miesiac_podp_umowy=='sierpien ']"
   ]
  },
  {
   "cell_type": "code",
   "execution_count": 1998,
   "id": "72cb336c",
   "metadata": {},
   "outputs": [
    {
     "name": "stderr",
     "output_type": "stream",
     "text": [
      "C:\\Users\\biuro\\AppData\\Local\\Temp/ipykernel_7036/523948150.py:1: SettingWithCopyWarning: \n",
      "A value is trying to be set on a copy of a slice from a DataFrame\n",
      "\n",
      "See the caveats in the documentation: https://pandas.pydata.org/pandas-docs/stable/user_guide/indexing.html#returning-a-view-versus-a-copy\n",
      "  df.miesiac_podp_umowy[366]='sierpień'\n",
      "C:\\Users\\biuro\\AppData\\Local\\Temp/ipykernel_7036/523948150.py:2: SettingWithCopyWarning: \n",
      "A value is trying to be set on a copy of a slice from a DataFrame\n",
      "\n",
      "See the caveats in the documentation: https://pandas.pydata.org/pandas-docs/stable/user_guide/indexing.html#returning-a-view-versus-a-copy\n",
      "  df.miesiac_podp_umowy[367]='sierpień'\n"
     ]
    }
   ],
   "source": [
    "df.miesiac_podp_umowy[366]='sierpień'\n",
    "df.miesiac_podp_umowy[367]='sierpień'\n",
    "#df[365:369]"
   ]
  },
  {
   "cell_type": "markdown",
   "id": "bc76873d",
   "metadata": {},
   "source": [
    "### delete white signs"
   ]
  },
  {
   "cell_type": "code",
   "execution_count": 1999,
   "id": "cc6275b0",
   "metadata": {},
   "outputs": [],
   "source": [
    "df.nazwisko=df.nazwisko.str.strip()\n",
    "df.imie=df.imie.str.strip()\n",
    "df.adres=df.adres.str.strip()\n",
    "df.moc=df.moc.str.strip()\n",
    "df.kwota_brutto=df.kwota_brutto.str.strip()\n",
    "df.mail=df.mail.str.strip()\n",
    "df.telefon=df.telefon.str.strip()\n",
    "df.miesiac_podp_umowy=df.miesiac_podp_umowy.str.strip()\n",
    "df.miesiac_podp_umowy=df.miesiac_podp_umowy.str.lower()"
   ]
  },
  {
   "cell_type": "code",
   "execution_count": 2000,
   "id": "b1d6daaf",
   "metadata": {},
   "outputs": [
    {
     "data": {
      "text/plain": [
       "array(['luty', 'marzec', 'kwiecień', 'maj', 'czerwiec', 'lipiec',\n",
       "       'sierpień', 'wrzesień', 'październik', 'listopad', 'grudzień',\n",
       "       'styczeń', ''], dtype=object)"
      ]
     },
     "execution_count": 2000,
     "metadata": {},
     "output_type": "execute_result"
    }
   ],
   "source": [
    "df.miesiac_podp_umowy.unique()"
   ]
  },
  {
   "cell_type": "markdown",
   "id": "cecfd2dc",
   "metadata": {},
   "source": [
    "### cleanup moc column"
   ]
  },
  {
   "cell_type": "code",
   "execution_count": 2001,
   "id": "1deeec76",
   "metadata": {},
   "outputs": [
    {
     "data": {
      "text/plain": [
       "array(['5,12', '4,32', '4,16', '3,52', '3,84', '4,08', '8', '7,36',\n",
       "       '5,76', '5,04', '9,99', '3,6', '6,48', '3,96', '4,07', '9,62',\n",
       "       '4,81', '5,55', '5,92', '5,18', '8,14', '5,95', '6,65', '14,8',\n",
       "       '3,15', '9,8', '5,25', '4,2', '28', '4,44', '3,5', '5,265', '2,59',\n",
       "       '6,29', '6,675', '7,35', '5,6', '6,66', '9,1', '6,08', '4,45',\n",
       "       '3,85', '4,55', '30,34', '6,3', '5,475', '4,89', '3,33', '3,65',\n",
       "       '6,935', '3,7', '2,92', '6,57', '4,38', '4,015', '5,11', '5,5',\n",
       "       '6,93', '7,68', '3,285', '5,84', '8,395', '9,855', '14,06', '4,74',\n",
       "       '3,115', '7,3', '2,22', '49,95', '7,03', '17,76', '8,51', '2,96',\n",
       "       '1,48', '11,84', '9,99+panel gratis', '18,87', '4,87', '7,4', '6',\n",
       "       '8,75', '7,77', '17,02', '5,55+panel gratis', '3,375', '4,5',\n",
       "       '11,4', '6,375', '18,75', '7,5', '16,25',\n",
       "       '2,62 (3,0-panel gratis)', '22', '4,125', 'było 35kW za 146brutto',\n",
       "       '49,875', '11,25', '26', '3,75', '0,74', '0,75', '9,37',\n",
       "       '31,875+panel gratis', '13,125+2 panele gratis', '27,75',\n",
       "       '5,25+panel gratis', '9,75', '9,375', '6+flacha gratis', '3,4',\n",
       "       '49,5', '9,75+panel gtaris', '7,125 + panel gratis', '39,93',\n",
       "       '4,1', '12', '2,25', '8,36', '16,125', '21,75', '5,32', '15,17',\n",
       "       '0', '4,56', '20', '26,98', '20,14', '9,12', '3,04', '28,12',\n",
       "       '7,22', '9,88', '29,7', '4,94', '5,7', '3,42', '39,99', '19,62',\n",
       "       '3,63', '4,95', '20,7', '4,62', '14,85', '2,28', '3,12', '3',\n",
       "       '2,97', '8,47', '4,3', '1,98', '9,625', '3.2', '20,79', '25,795',\n",
       "       '8,74', '5,39', '3,69', '3,8', '20,9', '31,955', '7,315', '4,095',\n",
       "       '4,235', '6,16', '3,465', '2,31', '4,23', '6,03', '4,18', '3,08',\n",
       "       '32,3', '2,695', '10,27', '15,4', '4,29', '16,94', '8,855',\n",
       "       '3,555', '10,64', '5', '4,24', '5,005', '1,92', '2,37', '2,77',\n",
       "       '2,07', '9,25', '8,86'], dtype=object)"
      ]
     },
     "execution_count": 2001,
     "metadata": {},
     "output_type": "execute_result"
    }
   ],
   "source": [
    "df.moc.unique()"
   ]
  },
  {
   "cell_type": "code",
   "execution_count": 2002,
   "id": "c8301bbe",
   "metadata": {},
   "outputs": [],
   "source": [
    "#df[df.moc=='9,99+panel gratis']"
   ]
  },
  {
   "cell_type": "code",
   "execution_count": 2003,
   "id": "c00352d7",
   "metadata": {},
   "outputs": [
    {
     "name": "stderr",
     "output_type": "stream",
     "text": [
      "C:\\Users\\biuro\\AppData\\Local\\Temp/ipykernel_7036/3964631423.py:1: SettingWithCopyWarning: \n",
      "A value is trying to be set on a copy of a slice from a DataFrame\n",
      "\n",
      "See the caveats in the documentation: https://pandas.pydata.org/pandas-docs/stable/user_guide/indexing.html#returning-a-view-versus-a-copy\n",
      "  df.moc[177]='9,99'\n"
     ]
    }
   ],
   "source": [
    "df.moc[177]='9,99'\n",
    "#df[176:179]"
   ]
  },
  {
   "cell_type": "code",
   "execution_count": 2004,
   "id": "a2c6ebf0",
   "metadata": {},
   "outputs": [],
   "source": [
    "#df[df.moc=='5,55+panel gratis']"
   ]
  },
  {
   "cell_type": "code",
   "execution_count": 2005,
   "id": "3238b124",
   "metadata": {},
   "outputs": [
    {
     "name": "stderr",
     "output_type": "stream",
     "text": [
      "C:\\Users\\biuro\\AppData\\Local\\Temp/ipykernel_7036/3070444631.py:1: SettingWithCopyWarning: \n",
      "A value is trying to be set on a copy of a slice from a DataFrame\n",
      "\n",
      "See the caveats in the documentation: https://pandas.pydata.org/pandas-docs/stable/user_guide/indexing.html#returning-a-view-versus-a-copy\n",
      "  df.moc[213]='5,55'\n"
     ]
    }
   ],
   "source": [
    "df.moc[213]='5,55'\n",
    "#df[212:215]"
   ]
  },
  {
   "cell_type": "code",
   "execution_count": 2006,
   "id": "ef3ba501",
   "metadata": {},
   "outputs": [],
   "source": [
    "#df[df.moc=='2,62 (3,0-panel gratis)']"
   ]
  },
  {
   "cell_type": "code",
   "execution_count": 2007,
   "id": "9b026f23",
   "metadata": {},
   "outputs": [
    {
     "name": "stderr",
     "output_type": "stream",
     "text": [
      "C:\\Users\\biuro\\AppData\\Local\\Temp/ipykernel_7036/978549573.py:1: SettingWithCopyWarning: \n",
      "A value is trying to be set on a copy of a slice from a DataFrame\n",
      "\n",
      "See the caveats in the documentation: https://pandas.pydata.org/pandas-docs/stable/user_guide/indexing.html#returning-a-view-versus-a-copy\n",
      "  df.moc[224]='2,62'\n"
     ]
    }
   ],
   "source": [
    "df.moc[224]='2,62'\n",
    "#df[223:226]"
   ]
  },
  {
   "cell_type": "code",
   "execution_count": 2008,
   "id": "cf9c2692",
   "metadata": {},
   "outputs": [],
   "source": [
    "#df[df.moc=='było 35kW za 146brutto']"
   ]
  },
  {
   "cell_type": "code",
   "execution_count": 2009,
   "id": "6b0b1212",
   "metadata": {},
   "outputs": [
    {
     "name": "stderr",
     "output_type": "stream",
     "text": [
      "C:\\Users\\biuro\\AppData\\Local\\Temp/ipykernel_7036/3465097155.py:1: SettingWithCopyWarning: \n",
      "A value is trying to be set on a copy of a slice from a DataFrame\n",
      "\n",
      "See the caveats in the documentation: https://pandas.pydata.org/pandas-docs/stable/user_guide/indexing.html#returning-a-view-versus-a-copy\n",
      "  df.moc[230]='28,0'\n"
     ]
    }
   ],
   "source": [
    "df.moc[230]='28,0'\n",
    "#df[229:232]"
   ]
  },
  {
   "cell_type": "code",
   "execution_count": 2010,
   "id": "1f71a7c1",
   "metadata": {},
   "outputs": [],
   "source": [
    "#df[df.moc=='31,875+panel gratis']"
   ]
  },
  {
   "cell_type": "code",
   "execution_count": 2011,
   "id": "4d3e4b4b",
   "metadata": {},
   "outputs": [
    {
     "name": "stderr",
     "output_type": "stream",
     "text": [
      "C:\\Users\\biuro\\AppData\\Local\\Temp/ipykernel_7036/2340361807.py:1: SettingWithCopyWarning: \n",
      "A value is trying to be set on a copy of a slice from a DataFrame\n",
      "\n",
      "See the caveats in the documentation: https://pandas.pydata.org/pandas-docs/stable/user_guide/indexing.html#returning-a-view-versus-a-copy\n",
      "  df.moc[248]='31,875'\n"
     ]
    }
   ],
   "source": [
    "df.moc[248]='31,875'\n",
    "#df[247:250]"
   ]
  },
  {
   "cell_type": "code",
   "execution_count": 2012,
   "id": "d2301277",
   "metadata": {},
   "outputs": [],
   "source": [
    "#df[df.moc=='13,125+2 panele gratis']"
   ]
  },
  {
   "cell_type": "code",
   "execution_count": 2013,
   "id": "dc6410cd",
   "metadata": {},
   "outputs": [
    {
     "name": "stderr",
     "output_type": "stream",
     "text": [
      "C:\\Users\\biuro\\AppData\\Local\\Temp/ipykernel_7036/1118920543.py:1: SettingWithCopyWarning: \n",
      "A value is trying to be set on a copy of a slice from a DataFrame\n",
      "\n",
      "See the caveats in the documentation: https://pandas.pydata.org/pandas-docs/stable/user_guide/indexing.html#returning-a-view-versus-a-copy\n",
      "  df.moc[251]='13,125'\n"
     ]
    }
   ],
   "source": [
    "df.moc[251]='13,125'\n",
    "#df[250:253]"
   ]
  },
  {
   "cell_type": "code",
   "execution_count": 2014,
   "id": "8c983d44",
   "metadata": {},
   "outputs": [],
   "source": [
    "#df[df.moc=='5,25+panel gratis']"
   ]
  },
  {
   "cell_type": "code",
   "execution_count": 2015,
   "id": "3c1d72b8",
   "metadata": {},
   "outputs": [
    {
     "name": "stderr",
     "output_type": "stream",
     "text": [
      "C:\\Users\\biuro\\AppData\\Local\\Temp/ipykernel_7036/601483697.py:1: SettingWithCopyWarning: \n",
      "A value is trying to be set on a copy of a slice from a DataFrame\n",
      "\n",
      "See the caveats in the documentation: https://pandas.pydata.org/pandas-docs/stable/user_guide/indexing.html#returning-a-view-versus-a-copy\n",
      "  df.moc[255]='5,25'\n",
      "C:\\Users\\biuro\\AppData\\Local\\Temp/ipykernel_7036/601483697.py:2: SettingWithCopyWarning: \n",
      "A value is trying to be set on a copy of a slice from a DataFrame\n",
      "\n",
      "See the caveats in the documentation: https://pandas.pydata.org/pandas-docs/stable/user_guide/indexing.html#returning-a-view-versus-a-copy\n",
      "  df.moc[256]='5,25'\n"
     ]
    }
   ],
   "source": [
    "df.moc[255]='5,25'\n",
    "df.moc[256]='5,25'\n",
    "#df[254:258]"
   ]
  },
  {
   "cell_type": "code",
   "execution_count": 2016,
   "id": "c749d3e1",
   "metadata": {},
   "outputs": [],
   "source": [
    "#df[df.moc=='6+flacha gratis']"
   ]
  },
  {
   "cell_type": "code",
   "execution_count": 2017,
   "id": "b1614f29",
   "metadata": {},
   "outputs": [
    {
     "name": "stderr",
     "output_type": "stream",
     "text": [
      "C:\\Users\\biuro\\AppData\\Local\\Temp/ipykernel_7036/1072978922.py:1: SettingWithCopyWarning: \n",
      "A value is trying to be set on a copy of a slice from a DataFrame\n",
      "\n",
      "See the caveats in the documentation: https://pandas.pydata.org/pandas-docs/stable/user_guide/indexing.html#returning-a-view-versus-a-copy\n",
      "  df.moc[261]='6,0'\n"
     ]
    }
   ],
   "source": [
    "df.moc[261]='6,0'\n",
    "#df[260:263]"
   ]
  },
  {
   "cell_type": "code",
   "execution_count": 2018,
   "id": "c93de97e",
   "metadata": {},
   "outputs": [],
   "source": [
    "#df[df.moc=='9,75+panel gtaris']"
   ]
  },
  {
   "cell_type": "code",
   "execution_count": 2019,
   "id": "e9d01371",
   "metadata": {},
   "outputs": [
    {
     "name": "stderr",
     "output_type": "stream",
     "text": [
      "C:\\Users\\biuro\\AppData\\Local\\Temp/ipykernel_7036/2778836555.py:1: SettingWithCopyWarning: \n",
      "A value is trying to be set on a copy of a slice from a DataFrame\n",
      "\n",
      "See the caveats in the documentation: https://pandas.pydata.org/pandas-docs/stable/user_guide/indexing.html#returning-a-view-versus-a-copy\n",
      "  df.moc[274]='9,75'\n"
     ]
    }
   ],
   "source": [
    "df.moc[274]='9,75'\n",
    "#df[273:276]"
   ]
  },
  {
   "cell_type": "code",
   "execution_count": 2020,
   "id": "fd5b0146",
   "metadata": {},
   "outputs": [],
   "source": [
    "#df[df.moc=='7,125 + panel gratis']"
   ]
  },
  {
   "cell_type": "code",
   "execution_count": 2021,
   "id": "42555b72",
   "metadata": {},
   "outputs": [
    {
     "name": "stderr",
     "output_type": "stream",
     "text": [
      "C:\\Users\\biuro\\AppData\\Local\\Temp/ipykernel_7036/1870810686.py:1: SettingWithCopyWarning: \n",
      "A value is trying to be set on a copy of a slice from a DataFrame\n",
      "\n",
      "See the caveats in the documentation: https://pandas.pydata.org/pandas-docs/stable/user_guide/indexing.html#returning-a-view-versus-a-copy\n",
      "  df.moc[275]='7,125'\n"
     ]
    }
   ],
   "source": [
    "df.moc[275]='7,125'\n",
    "#df[274:277]"
   ]
  },
  {
   "cell_type": "code",
   "execution_count": 2022,
   "id": "57031de3",
   "metadata": {},
   "outputs": [
    {
     "data": {
      "text/plain": [
       "array(['5,12', '4,32', '4,16', '3,52', '3,84', '4,08', '8', '7,36',\n",
       "       '5,76', '5,04', '9,99', '3,6', '6,48', '3,96', '4,07', '9,62',\n",
       "       '4,81', '5,55', '5,92', '5,18', '8,14', '5,95', '6,65', '14,8',\n",
       "       '3,15', '9,8', '5,25', '4,2', '28', '4,44', '3,5', '5,265', '2,59',\n",
       "       '6,29', '6,675', '7,35', '5,6', '6,66', '9,1', '6,08', '4,45',\n",
       "       '3,85', '4,55', '30,34', '6,3', '5,475', '4,89', '3,33', '3,65',\n",
       "       '6,935', '3,7', '2,92', '6,57', '4,38', '4,015', '5,11', '5,5',\n",
       "       '6,93', '7,68', '3,285', '5,84', '8,395', '9,855', '14,06', '4,74',\n",
       "       '3,115', '7,3', '2,22', '49,95', '7,03', '17,76', '8,51', '2,96',\n",
       "       '1,48', '11,84', '18,87', '4,87', '7,4', '6', '8,75', '7,77',\n",
       "       '17,02', '3,375', '4,5', '11,4', '6,375', '18,75', '7,5', '16,25',\n",
       "       '2,62', '22', '4,125', '28,0', '49,875', '11,25', '26', '3,75',\n",
       "       '0,74', '0,75', '9,37', '31,875', '13,125', '27,75', '9,75',\n",
       "       '9,375', '6,0', '3,4', '49,5', '7,125', '39,93', '4,1', '12',\n",
       "       '2,25', '8,36', '16,125', '21,75', '5,32', '15,17', '0', '4,56',\n",
       "       '20', '26,98', '20,14', '9,12', '3,04', '28,12', '7,22', '9,88',\n",
       "       '29,7', '4,94', '5,7', '3,42', '39,99', '19,62', '3,63', '4,95',\n",
       "       '20,7', '4,62', '14,85', '2,28', '3,12', '3', '2,97', '8,47',\n",
       "       '4,3', '1,98', '9,625', '3.2', '20,79', '25,795', '8,74', '5,39',\n",
       "       '3,69', '3,8', '20,9', '31,955', '7,315', '4,095', '4,235', '6,16',\n",
       "       '3,465', '2,31', '4,23', '6,03', '4,18', '3,08', '32,3', '2,695',\n",
       "       '10,27', '15,4', '4,29', '16,94', '8,855', '3,555', '10,64', '5',\n",
       "       '4,24', '5,005', '1,92', '2,37', '2,77', '2,07', '9,25', '8,86'],\n",
       "      dtype=object)"
      ]
     },
     "execution_count": 2022,
     "metadata": {},
     "output_type": "execute_result"
    }
   ],
   "source": [
    "df.moc.unique()"
   ]
  },
  {
   "cell_type": "markdown",
   "id": "c66c2271",
   "metadata": {},
   "source": [
    "### kwota_brutto column cleanup"
   ]
  },
  {
   "cell_type": "code",
   "execution_count": 2023,
   "id": "1592dad8",
   "metadata": {},
   "outputs": [],
   "source": [
    "df.kwota_brutto=df.kwota_brutto.str.replace('zł', '')\n",
    "df.kwota_brutto=df.kwota_brutto.str.strip()"
   ]
  },
  {
   "cell_type": "code",
   "execution_count": 2024,
   "id": "68280b31",
   "metadata": {},
   "outputs": [
    {
     "data": {
      "text/plain": [
       "nazwisko              object\n",
       "imie                  object\n",
       "adres                 object\n",
       "moc                   object\n",
       "kwota_brutto          object\n",
       "mail                  object\n",
       "telefon               object\n",
       "miesiac_podp_umowy    object\n",
       "rok_podp_umowy         int64\n",
       "dtype: object"
      ]
     },
     "execution_count": 2024,
     "metadata": {},
     "output_type": "execute_result"
    }
   ],
   "source": [
    "df.dtypes"
   ]
  },
  {
   "cell_type": "code",
   "execution_count": 2025,
   "id": "a7f3a0a2",
   "metadata": {},
   "outputs": [],
   "source": [
    "df.kwota_brutto=df.kwota_brutto.str.replace(',', '.')\n",
    "df.kwota_brutto=df.kwota_brutto.str.replace(' ', '')\n",
    "#df"
   ]
  },
  {
   "cell_type": "code",
   "execution_count": 2026,
   "id": "4a3932fa",
   "metadata": {},
   "outputs": [],
   "source": [
    "#df[df.nazwisko=='Faltyn']"
   ]
  },
  {
   "cell_type": "code",
   "execution_count": 2027,
   "id": "c514a99f",
   "metadata": {},
   "outputs": [
    {
     "name": "stderr",
     "output_type": "stream",
     "text": [
      "C:\\Users\\biuro\\AppData\\Local\\Temp/ipykernel_7036/2275796473.py:1: SettingWithCopyWarning: \n",
      "A value is trying to be set on a copy of a slice from a DataFrame\n",
      "\n",
      "See the caveats in the documentation: https://pandas.pydata.org/pandas-docs/stable/user_guide/indexing.html#returning-a-view-versus-a-copy\n",
      "  df.kwota_brutto[228]='20500'\n"
     ]
    }
   ],
   "source": [
    "df.kwota_brutto[228]='20500'"
   ]
  },
  {
   "cell_type": "code",
   "execution_count": 2028,
   "id": "40d71677",
   "metadata": {},
   "outputs": [],
   "source": [
    "#df[df.nazwisko=='Zyskowscy']"
   ]
  },
  {
   "cell_type": "code",
   "execution_count": 2029,
   "id": "91b02bcc",
   "metadata": {},
   "outputs": [
    {
     "name": "stderr",
     "output_type": "stream",
     "text": [
      "C:\\Users\\biuro\\AppData\\Local\\Temp/ipykernel_7036/1511572754.py:1: SettingWithCopyWarning: \n",
      "A value is trying to be set on a copy of a slice from a DataFrame\n",
      "\n",
      "See the caveats in the documentation: https://pandas.pydata.org/pandas-docs/stable/user_guide/indexing.html#returning-a-view-versus-a-copy\n",
      "  df.kwota_brutto[275]='29925.00'\n"
     ]
    }
   ],
   "source": [
    "df.kwota_brutto[275]='29925.00'"
   ]
  },
  {
   "cell_type": "code",
   "execution_count": 2030,
   "id": "6683ca52",
   "metadata": {},
   "outputs": [],
   "source": [
    "#df[df.nazwisko=='Zyskowscy']"
   ]
  },
  {
   "cell_type": "code",
   "execution_count": 2031,
   "id": "282c15f3",
   "metadata": {},
   "outputs": [],
   "source": [
    "#df[df.nazwisko=='Arnista']"
   ]
  },
  {
   "cell_type": "code",
   "execution_count": 2032,
   "id": "8ca7fd91",
   "metadata": {},
   "outputs": [
    {
     "name": "stderr",
     "output_type": "stream",
     "text": [
      "C:\\Users\\biuro\\AppData\\Local\\Temp/ipykernel_7036/495569395.py:1: SettingWithCopyWarning: \n",
      "A value is trying to be set on a copy of a slice from a DataFrame\n",
      "\n",
      "See the caveats in the documentation: https://pandas.pydata.org/pandas-docs/stable/user_guide/indexing.html#returning-a-view-versus-a-copy\n",
      "  df.kwota_brutto[276]=\"38025.00\"\n"
     ]
    }
   ],
   "source": [
    "df.kwota_brutto[276]=\"38025.00\"\n",
    "#df[df.nazwisko=='Arnista']"
   ]
  },
  {
   "cell_type": "code",
   "execution_count": 2033,
   "id": "5e55b0e6",
   "metadata": {},
   "outputs": [],
   "source": [
    "#df[:50]"
   ]
  },
  {
   "cell_type": "code",
   "execution_count": 2034,
   "id": "3e102e75",
   "metadata": {},
   "outputs": [],
   "source": [
    "#df[51:100]"
   ]
  },
  {
   "cell_type": "code",
   "execution_count": 2035,
   "id": "37c9de42",
   "metadata": {},
   "outputs": [],
   "source": [
    "#df[101:150]"
   ]
  },
  {
   "cell_type": "code",
   "execution_count": 2036,
   "id": "dbf89b9b",
   "metadata": {},
   "outputs": [],
   "source": [
    "#df[151:200]"
   ]
  },
  {
   "cell_type": "code",
   "execution_count": 2037,
   "id": "42a2aecb",
   "metadata": {},
   "outputs": [],
   "source": [
    "#df[201:250]"
   ]
  },
  {
   "cell_type": "code",
   "execution_count": 2038,
   "id": "c6888040",
   "metadata": {},
   "outputs": [],
   "source": [
    "#df[df.nazwisko=='Polkowski']"
   ]
  },
  {
   "cell_type": "code",
   "execution_count": 2039,
   "id": "6befb83f",
   "metadata": {},
   "outputs": [
    {
     "name": "stderr",
     "output_type": "stream",
     "text": [
      "C:\\Users\\biuro\\AppData\\Local\\Temp/ipykernel_7036/3919889220.py:1: SettingWithCopyWarning: \n",
      "A value is trying to be set on a copy of a slice from a DataFrame\n",
      "\n",
      "See the caveats in the documentation: https://pandas.pydata.org/pandas-docs/stable/user_guide/indexing.html#returning-a-view-versus-a-copy\n",
      "  df.kwota_brutto[202]=\"47200.00\"\n"
     ]
    }
   ],
   "source": [
    "df.kwota_brutto[202]=\"47200.00\"\n",
    "#df[df.nazwisko=='Polkowski']"
   ]
  },
  {
   "cell_type": "code",
   "execution_count": 2040,
   "id": "6a73a628",
   "metadata": {},
   "outputs": [],
   "source": [
    "#df[df.nazwisko=='Faltyn']"
   ]
  },
  {
   "cell_type": "code",
   "execution_count": 2041,
   "id": "4a0a165c",
   "metadata": {},
   "outputs": [
    {
     "name": "stderr",
     "output_type": "stream",
     "text": [
      "C:\\Users\\biuro\\AppData\\Local\\Temp/ipykernel_7036/1531418511.py:1: SettingWithCopyWarning: \n",
      "A value is trying to be set on a copy of a slice from a DataFrame\n",
      "\n",
      "See the caveats in the documentation: https://pandas.pydata.org/pandas-docs/stable/user_guide/indexing.html#returning-a-view-versus-a-copy\n",
      "  df.kwota_brutto[228]=\"20500.00\"\n"
     ]
    }
   ],
   "source": [
    "df.kwota_brutto[228]=\"20500.00\"\n",
    "#df[df.nazwisko=='Faltyn']"
   ]
  },
  {
   "cell_type": "code",
   "execution_count": 2042,
   "id": "c8ffeba4",
   "metadata": {},
   "outputs": [],
   "source": [
    "#df[df.nazwisko=='Wolska-Kinneging']"
   ]
  },
  {
   "cell_type": "code",
   "execution_count": 2043,
   "id": "7730292a",
   "metadata": {},
   "outputs": [
    {
     "name": "stderr",
     "output_type": "stream",
     "text": [
      "C:\\Users\\biuro\\AppData\\Local\\Temp/ipykernel_7036/1325401557.py:1: SettingWithCopyWarning: \n",
      "A value is trying to be set on a copy of a slice from a DataFrame\n",
      "\n",
      "See the caveats in the documentation: https://pandas.pydata.org/pandas-docs/stable/user_guide/indexing.html#returning-a-view-versus-a-copy\n",
      "  df.kwota_brutto[229]=\"20688.00\"\n"
     ]
    }
   ],
   "source": [
    "df.kwota_brutto[229]=\"20688.00\"\n",
    "#df[df.nazwisko=='Wolska-Kinneging']"
   ]
  },
  {
   "cell_type": "code",
   "execution_count": 2044,
   "id": "0b8cac43",
   "metadata": {},
   "outputs": [],
   "source": [
    "#df[df.nazwisko=='Żemojda']"
   ]
  },
  {
   "cell_type": "code",
   "execution_count": 2045,
   "id": "56d7ed12",
   "metadata": {},
   "outputs": [
    {
     "name": "stderr",
     "output_type": "stream",
     "text": [
      "C:\\Users\\biuro\\AppData\\Local\\Temp/ipykernel_7036/459497801.py:1: SettingWithCopyWarning: \n",
      "A value is trying to be set on a copy of a slice from a DataFrame\n",
      "\n",
      "See the caveats in the documentation: https://pandas.pydata.org/pandas-docs/stable/user_guide/indexing.html#returning-a-view-versus-a-copy\n",
      "  df.kwota_brutto[234]=\"141450.00\"\n"
     ]
    }
   ],
   "source": [
    "df.kwota_brutto[234]=\"141450.00\"\n",
    "#df[df.nazwisko=='Żemojda']"
   ]
  },
  {
   "cell_type": "code",
   "execution_count": 2046,
   "id": "eedbd04c",
   "metadata": {},
   "outputs": [],
   "source": [
    "df.drop(457, axis=0, inplace=True)\n",
    "#df[df.nazwisko=='Żemojda']"
   ]
  },
  {
   "cell_type": "code",
   "execution_count": 2047,
   "id": "1c1b6ca7",
   "metadata": {},
   "outputs": [],
   "source": [
    "#df[201:250]"
   ]
  },
  {
   "cell_type": "code",
   "execution_count": 2048,
   "id": "ee4c8c2d",
   "metadata": {},
   "outputs": [],
   "source": [
    "#df[251:300]"
   ]
  },
  {
   "cell_type": "code",
   "execution_count": 2049,
   "id": "80ba02a9",
   "metadata": {},
   "outputs": [],
   "source": [
    "#df[df.nazwisko=='Żuk']"
   ]
  },
  {
   "cell_type": "code",
   "execution_count": 2050,
   "id": "91f45a33",
   "metadata": {},
   "outputs": [
    {
     "name": "stderr",
     "output_type": "stream",
     "text": [
      "C:\\Users\\biuro\\AppData\\Local\\Temp/ipykernel_7036/1380103752.py:1: SettingWithCopyWarning: \n",
      "A value is trying to be set on a copy of a slice from a DataFrame\n",
      "\n",
      "See the caveats in the documentation: https://pandas.pydata.org/pandas-docs/stable/user_guide/indexing.html#returning-a-view-versus-a-copy\n",
      "  df.kwota_brutto[266]=\"24000.00\"\n"
     ]
    }
   ],
   "source": [
    "df.kwota_brutto[266]=\"24000.00\"\n",
    "#df[df.nazwisko=='Żuk']"
   ]
  },
  {
   "cell_type": "code",
   "execution_count": 2051,
   "id": "3d958b7f",
   "metadata": {},
   "outputs": [],
   "source": [
    "#df[df.nazwisko=='Zyskowscy']"
   ]
  },
  {
   "cell_type": "code",
   "execution_count": 2052,
   "id": "afa88f54",
   "metadata": {},
   "outputs": [
    {
     "name": "stderr",
     "output_type": "stream",
     "text": [
      "C:\\Users\\biuro\\AppData\\Local\\Temp/ipykernel_7036/2781174456.py:1: SettingWithCopyWarning: \n",
      "A value is trying to be set on a copy of a slice from a DataFrame\n",
      "\n",
      "See the caveats in the documentation: https://pandas.pydata.org/pandas-docs/stable/user_guide/indexing.html#returning-a-view-versus-a-copy\n",
      "  df.kwota_brutto[275]=\"29925.00\"\n"
     ]
    }
   ],
   "source": [
    "df.kwota_brutto[275]=\"29925.00\"\n",
    "#df[df.nazwisko=='Zyskowscy']"
   ]
  },
  {
   "cell_type": "code",
   "execution_count": 2053,
   "id": "bf2db5a3",
   "metadata": {},
   "outputs": [],
   "source": [
    "#df[df.nazwisko=='Arnista']"
   ]
  },
  {
   "cell_type": "code",
   "execution_count": 2054,
   "id": "6cc85ca9",
   "metadata": {},
   "outputs": [
    {
     "name": "stderr",
     "output_type": "stream",
     "text": [
      "C:\\Users\\biuro\\AppData\\Local\\Temp/ipykernel_7036/2887124453.py:1: SettingWithCopyWarning: \n",
      "A value is trying to be set on a copy of a slice from a DataFrame\n",
      "\n",
      "See the caveats in the documentation: https://pandas.pydata.org/pandas-docs/stable/user_guide/indexing.html#returning-a-view-versus-a-copy\n",
      "  df.kwota_brutto[277]=\"38025.00\"\n"
     ]
    }
   ],
   "source": [
    "df.kwota_brutto[277]=\"38025.00\"\n",
    "#df[df.nazwisko=='Arnista']"
   ]
  },
  {
   "cell_type": "code",
   "execution_count": 2055,
   "id": "77a08991",
   "metadata": {},
   "outputs": [],
   "source": [
    "#df[df.nazwisko=='Leszczyński']"
   ]
  },
  {
   "cell_type": "code",
   "execution_count": 2056,
   "id": "1946ca4a",
   "metadata": {},
   "outputs": [
    {
     "name": "stderr",
     "output_type": "stream",
     "text": [
      "C:\\Users\\biuro\\AppData\\Local\\Temp/ipykernel_7036/2444033213.py:1: SettingWithCopyWarning: \n",
      "A value is trying to be set on a copy of a slice from a DataFrame\n",
      "\n",
      "See the caveats in the documentation: https://pandas.pydata.org/pandas-docs/stable/user_guide/indexing.html#returning-a-view-versus-a-copy\n",
      "  df.kwota_brutto[280]=\"39500.00\"\n"
     ]
    }
   ],
   "source": [
    "df.kwota_brutto[280]=\"39500.00\"\n",
    "#df[df.nazwisko=='Leszczyński']"
   ]
  },
  {
   "cell_type": "code",
   "execution_count": 2057,
   "id": "d3b0c8a3",
   "metadata": {},
   "outputs": [],
   "source": [
    "#df[251:300]"
   ]
  },
  {
   "cell_type": "code",
   "execution_count": 2058,
   "id": "3197e9bf",
   "metadata": {},
   "outputs": [],
   "source": [
    "#df[301:350]"
   ]
  },
  {
   "cell_type": "code",
   "execution_count": 2059,
   "id": "718c55ae",
   "metadata": {},
   "outputs": [],
   "source": [
    "#df[df.nazwisko=='Pietrzycka']"
   ]
  },
  {
   "cell_type": "code",
   "execution_count": 2060,
   "id": "ac29c886",
   "metadata": {},
   "outputs": [
    {
     "name": "stderr",
     "output_type": "stream",
     "text": [
      "C:\\Users\\biuro\\AppData\\Local\\Temp/ipykernel_7036/3835564775.py:1: SettingWithCopyWarning: \n",
      "A value is trying to be set on a copy of a slice from a DataFrame\n",
      "\n",
      "See the caveats in the documentation: https://pandas.pydata.org/pandas-docs/stable/user_guide/indexing.html#returning-a-view-versus-a-copy\n",
      "  df.kwota_brutto[341]='20000.00'\n"
     ]
    }
   ],
   "source": [
    "df.kwota_brutto[341]='20000.00'\n",
    "#df[df.nazwisko=='Pietrzycka']"
   ]
  },
  {
   "cell_type": "code",
   "execution_count": 2061,
   "id": "1cbcc198",
   "metadata": {},
   "outputs": [],
   "source": [
    "#df[351:400]"
   ]
  },
  {
   "cell_type": "code",
   "execution_count": 2062,
   "id": "07f26fa6",
   "metadata": {},
   "outputs": [],
   "source": [
    "#df[df.nazwisko=='Timofiejuk']"
   ]
  },
  {
   "cell_type": "code",
   "execution_count": 2063,
   "id": "ad68116b",
   "metadata": {},
   "outputs": [
    {
     "name": "stderr",
     "output_type": "stream",
     "text": [
      "C:\\Users\\biuro\\AppData\\Local\\Temp/ipykernel_7036/3800568777.py:1: SettingWithCopyWarning: \n",
      "A value is trying to be set on a copy of a slice from a DataFrame\n",
      "\n",
      "See the caveats in the documentation: https://pandas.pydata.org/pandas-docs/stable/user_guide/indexing.html#returning-a-view-versus-a-copy\n",
      "  df.kwota_brutto[371]='13590.00'\n"
     ]
    }
   ],
   "source": [
    "df.kwota_brutto[371]='13590.00'\n",
    "#df[df.nazwisko=='Timofiejuk']"
   ]
  },
  {
   "cell_type": "code",
   "execution_count": 2064,
   "id": "d71000be",
   "metadata": {},
   "outputs": [],
   "source": [
    "df.kwota_brutto.replace(' ','', regex= True, inplace=True)"
   ]
  },
  {
   "cell_type": "code",
   "execution_count": 2065,
   "id": "0d53a23a",
   "metadata": {},
   "outputs": [],
   "source": [
    "#df[df.nazwisko=='Kowalewski']"
   ]
  },
  {
   "cell_type": "code",
   "execution_count": 2066,
   "id": "73bab78d",
   "metadata": {},
   "outputs": [
    {
     "name": "stderr",
     "output_type": "stream",
     "text": [
      "C:\\Users\\biuro\\AppData\\Local\\Temp/ipykernel_7036/920914557.py:1: SettingWithCopyWarning: \n",
      "A value is trying to be set on a copy of a slice from a DataFrame\n",
      "\n",
      "See the caveats in the documentation: https://pandas.pydata.org/pandas-docs/stable/user_guide/indexing.html#returning-a-view-versus-a-copy\n",
      "  df.kwota_brutto[392]='28300.00'\n"
     ]
    }
   ],
   "source": [
    "df.kwota_brutto[392]='28300.00'\n",
    "#df[df.nazwisko=='Kowalewski']"
   ]
  },
  {
   "cell_type": "code",
   "execution_count": 2067,
   "id": "ef79f22b",
   "metadata": {},
   "outputs": [],
   "source": [
    "#df[401:450]"
   ]
  },
  {
   "cell_type": "code",
   "execution_count": 2068,
   "id": "d017a3c3",
   "metadata": {},
   "outputs": [],
   "source": [
    "#df[df.nazwisko=='Grzędziński']"
   ]
  },
  {
   "cell_type": "code",
   "execution_count": 2069,
   "id": "c62fdac9",
   "metadata": {},
   "outputs": [
    {
     "name": "stderr",
     "output_type": "stream",
     "text": [
      "C:\\Users\\biuro\\AppData\\Local\\Temp/ipykernel_7036/1807013898.py:1: SettingWithCopyWarning: \n",
      "A value is trying to be set on a copy of a slice from a DataFrame\n",
      "\n",
      "See the caveats in the documentation: https://pandas.pydata.org/pandas-docs/stable/user_guide/indexing.html#returning-a-view-versus-a-copy\n",
      "  df.kwota_brutto[413]='26000.00'\n"
     ]
    }
   ],
   "source": [
    "df.kwota_brutto[413]='26000.00'\n",
    "#df[df.nazwisko=='Grzędziński']"
   ]
  },
  {
   "cell_type": "code",
   "execution_count": 2070,
   "id": "ebd48ea8",
   "metadata": {},
   "outputs": [],
   "source": [
    "#df[451:500]"
   ]
  },
  {
   "cell_type": "markdown",
   "id": "6d63a385",
   "metadata": {},
   "source": [
    "### finally after few hours..."
   ]
  },
  {
   "cell_type": "code",
   "execution_count": 2071,
   "id": "5d577f2b",
   "metadata": {},
   "outputs": [
    {
     "data": {
      "text/plain": [
       "<PandasArray>\n",
       "['26\\xa0300.00', '21\\xa0000.00', '21\\xa0000.00', '19\\xa0500.00',\n",
       " '18\\xa0000.00', '20\\xa0000.00', '25\\xa0300.00', '25\\xa0000.00',\n",
       " '19\\xa0100.00', '36\\xa0700.00',\n",
       " ...\n",
       " '23\\xa0000.00', '32\\xa0300.00', '15\\xa0900.00', '24\\xa0000.00',\n",
       " '20\\xa0900.00', '12\\xa0243.00', '48\\xa0000.00', '26\\xa0830.00',\n",
       " '51\\xa0300.00', '40\\xa0000.00']\n",
       "Length: 469, dtype: object"
      ]
     },
     "execution_count": 2071,
     "metadata": {},
     "output_type": "execute_result"
    }
   ],
   "source": [
    "df.kwota_brutto.array"
   ]
  },
  {
   "cell_type": "code",
   "execution_count": 2072,
   "id": "3c193cd2",
   "metadata": {},
   "outputs": [],
   "source": [
    "df.kwota_brutto.replace('\\xa0','', regex= True, inplace=True)"
   ]
  },
  {
   "cell_type": "code",
   "execution_count": 2073,
   "id": "56a95b33",
   "metadata": {},
   "outputs": [
    {
     "data": {
      "text/plain": [
       "<PandasArray>\n",
       "['26300.00', '21000.00', '21000.00', '19500.00', '18000.00', '20000.00',\n",
       " '25300.00', '25000.00', '19100.00', '36700.00',\n",
       " ...\n",
       " '23000.00', '32300.00', '15900.00', '24000.00', '20900.00', '12243.00',\n",
       " '48000.00', '26830.00', '51300.00', '40000.00']\n",
       "Length: 469, dtype: object"
      ]
     },
     "execution_count": 2073,
     "metadata": {},
     "output_type": "execute_result"
    }
   ],
   "source": [
    "df.kwota_brutto.array"
   ]
  },
  {
   "cell_type": "code",
   "execution_count": 2074,
   "id": "8dce26cb",
   "metadata": {},
   "outputs": [],
   "source": [
    "df.kwota_brutto= df.kwota_brutto.astype(float)"
   ]
  },
  {
   "cell_type": "code",
   "execution_count": 2075,
   "id": "372d2190",
   "metadata": {},
   "outputs": [
    {
     "data": {
      "text/plain": [
       "nazwisko               object\n",
       "imie                   object\n",
       "adres                  object\n",
       "moc                    object\n",
       "kwota_brutto          float64\n",
       "mail                   object\n",
       "telefon                object\n",
       "miesiac_podp_umowy     object\n",
       "rok_podp_umowy          int64\n",
       "dtype: object"
      ]
     },
     "execution_count": 2075,
     "metadata": {},
     "output_type": "execute_result"
    }
   ],
   "source": [
    "df.dtypes"
   ]
  },
  {
   "cell_type": "code",
   "execution_count": 2076,
   "id": "22c34e75",
   "metadata": {},
   "outputs": [
    {
     "data": {
      "text/plain": [
       "15543913.18"
      ]
     },
     "execution_count": 2076,
     "metadata": {},
     "output_type": "execute_result"
    }
   ],
   "source": [
    "df.kwota_brutto.sum()"
   ]
  },
  {
   "cell_type": "markdown",
   "id": "8c122960",
   "metadata": {},
   "source": [
    "### string to numeric moc column"
   ]
  },
  {
   "cell_type": "code",
   "execution_count": 2077,
   "id": "85009014",
   "metadata": {},
   "outputs": [],
   "source": [
    "df.moc=df.moc.str.replace(',', '.')\n",
    "#df"
   ]
  },
  {
   "cell_type": "code",
   "execution_count": 2078,
   "id": "46478d7a",
   "metadata": {},
   "outputs": [
    {
     "data": {
      "text/plain": [
       "3436.63"
      ]
     },
     "execution_count": 2078,
     "metadata": {},
     "output_type": "execute_result"
    }
   ],
   "source": [
    "df.moc = pd.to_numeric(df.moc)\n",
    "df.moc.sum()"
   ]
  },
  {
   "cell_type": "code",
   "execution_count": 2079,
   "id": "021ac34e",
   "metadata": {},
   "outputs": [
    {
     "data": {
      "text/plain": [
       "nazwisko               object\n",
       "imie                   object\n",
       "adres                  object\n",
       "moc                   float64\n",
       "kwota_brutto          float64\n",
       "mail                   object\n",
       "telefon                object\n",
       "miesiac_podp_umowy     object\n",
       "rok_podp_umowy          int64\n",
       "dtype: object"
      ]
     },
     "execution_count": 2079,
     "metadata": {},
     "output_type": "execute_result"
    }
   ],
   "source": [
    "df.dtypes"
   ]
  },
  {
   "cell_type": "markdown",
   "id": "5ce133ae",
   "metadata": {},
   "source": [
    "### save file to csv"
   ]
  },
  {
   "cell_type": "code",
   "execution_count": 2080,
   "id": "14661f4a",
   "metadata": {},
   "outputs": [],
   "source": [
    "df.to_csv('zapis_testowy_2.csv')"
   ]
  },
  {
   "cell_type": "markdown",
   "id": "90a2ecfc",
   "metadata": {},
   "source": [
    "# new df2 to make analysis and plots"
   ]
  },
  {
   "cell_type": "code",
   "execution_count": 2081,
   "id": "334cc251",
   "metadata": {},
   "outputs": [],
   "source": [
    "df2 = pd.read_csv(r\"D:\\python\\PROJECT_1\\DATA_PV\\zapis_testowy_2.csv\", usecols=['nazwisko','moc', 'kwota_brutto', 'miesiac_podp_umowy','rok_podp_umowy' ])\n",
    "#df2"
   ]
  },
  {
   "cell_type": "code",
   "execution_count": null,
   "id": "8e21b8a7",
   "metadata": {},
   "outputs": [],
   "source": []
  }
 ],
 "metadata": {
  "kernelspec": {
   "display_name": "Python 3 (ipykernel)",
   "language": "python",
   "name": "python3"
  },
  "language_info": {
   "codemirror_mode": {
    "name": "ipython",
    "version": 3
   },
   "file_extension": ".py",
   "mimetype": "text/x-python",
   "name": "python",
   "nbconvert_exporter": "python",
   "pygments_lexer": "ipython3",
   "version": "3.9.7"
  }
 },
 "nbformat": 4,
 "nbformat_minor": 5
}
